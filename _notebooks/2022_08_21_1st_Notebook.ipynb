{
  "cells": [
    {
      "cell_type": "markdown",
      "metadata": {
        "id": "dAd1Oo8ggRsL"
      },
      "source": [
        "# First Jupyter Notebook\n",
        "> In this notebook, I'll print the prime numbers ranging from 1 to 100\n",
        "\n",
        "- toc: true \n",
        "- badges: true\n",
        "- comments: true\n",
        "- categories: [jupyter]"
      ]
    },
    {
      "cell_type": "markdown",
      "metadata": {
        "id": "crxcUxOggRsP"
      },
      "source": [
        "# Method\n",
        "\n",
        "I started by using a for loop that goes through the numbers 1 to 100. After that, I used a nested for loop to go through the numbers from 2 to n to see if n is divisible by any numbers less than it (except for 1, which will always be a factor of n). If n is divisible by any of these numbers, then the nested for loop stops and goes to the next number (n+1); otherwise, the value of n is printed in the sequence. The output of this code is shown in the next line."
      ]
    },
    {
      "cell_type": "code",
      "execution_count": 1,
      "metadata": {
        "id": "5TlkTfEUgRsP",
        "outputId": "f252a3e3-fbc7-4a64-c86c-d3312c943805",
        "colab": {
          "base_uri": "https://localhost:8080/"
        }
      },
      "outputs": [
        {
          "output_type": "stream",
          "name": "stdout",
          "text": [
            "Prime numbers: 1 2 3 5 7 11 13 17 19 23 29 31 37 41 43 47 53 59 61 67 71 73 79 83 89 97 "
          ]
        }
      ],
      "source": [
        "#collapse_show\n",
        "\n",
        "\n",
        "print(\"Prime numbers:\",end=' ')\n",
        "\n",
        "for n in range(1,100):\n",
        "\n",
        "    for i in range(2,n):\n",
        "\n",
        "        if(n%i==0):\n",
        "\n",
        "            break\n",
        "\n",
        "    else:\n",
        "\n",
        "        print(n,end=' ')        "
      ]
    }
  ],
  "metadata": {
    "kernelspec": {
      "display_name": "Python 3.9.12 ('base')",
      "language": "python",
      "name": "python3"
    },
    "language_info": {
      "codemirror_mode": {
        "name": "ipython",
        "version": 3
      },
      "file_extension": ".py",
      "mimetype": "text/x-python",
      "name": "python",
      "nbconvert_exporter": "python",
      "pygments_lexer": "ipython3",
      "version": "3.9.12"
    },
    "orig_nbformat": 4,
    "vscode": {
      "interpreter": {
        "hash": "36ac99974a67ba75ab4929ee9ef936c7cb2a4690d97ade6d3ca6bd9cb1ab7116"
      }
    },
    "colab": {
      "provenance": [],
      "name": "2022-08-21-1st_Notebook.ipynb"
    }
  },
  "nbformat": 4,
  "nbformat_minor": 0
}