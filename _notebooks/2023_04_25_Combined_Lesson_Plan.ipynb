{
  "cells": [
    {
      "cell_type": "markdown",
      "metadata": {
        "id": "8ofSZOf-qHp5"
      },
      "source": [
        "#  P5-Y 4/25 Data Analysis with Numpy & Pandas\n",
        "> A series of lessons based on the utilization of Pandas and NumPy to read and create interesting things with files and data. By Soham K, Tay K, Rohan A, Parav S, Krishiv M, Jonathan W\n",
        "- toc: true\n",
        "- comments: true\n",
        "- author: Soham K, Tay K, Rohan A, Parav S, Krishiv M, Jonathan W\n",
        "- categories: [student]\n",
        "- type: ap\n",
        "- week: 31"
      ]
    },
    {
      "cell_type": "markdown",
      "metadata": {
        "id": "PIQZWZD1qHp6"
      },
      "source": [
        "# WGET links\n",
        "- [CSV File (add to /_notebooks/files/)](https://raw.githubusercontent.com/paravsalaniwal/T3Project/master/_notebooks/files/padres.csv)\n",
        "- [Second CSV File (add to /_notebooks/files/)](https://raw.githubusercontent.com/paravsalaniwal/T3Project/master/_notebooks/files/housing.csv)\n",
        "- [Data Analysis Lesson + Hacks](https://raw.githubusercontent.com/paravsalaniwal/T3Project/master/_notebooks/2023-04-25-Data-Analysis-Panda-Numpy.ipynb)"
      ]
    },
    {
      "cell_type": "markdown",
      "metadata": {
        "id": "58OtOCBmqHp7"
      },
      "source": [
        "# Predictive Analysis\n",
        "Predictive analysis is the use of statistical, data mining, and machine learning techniques to analyze current and historical data in order to make predictions about future events or behaviors. It involves identifying patterns and trends in data, and then using that information to forecast what is likely to happen in the future.\n",
        "\n",
        "Predictive analysis is used in a wide range of applications, from forecasting sales and demand, to predicting customer behavior, to detecting fraudulent transactions. It involves collecting and analyzing data from a variety of sources, including historical data, customer data, financial data, and social media data, among others.\n",
        "\n",
        "The process of predictive analysis typically involves the following steps:\n",
        "1. Defining the problem and identifying the relevant data sources\n",
        "2. Collecting and cleaning the data\n",
        "3. Exploring and analyzing the data to identify patterns and trends\n",
        "4. Selecting an appropriate model or algorithm to use for predictions\n",
        "5. Training and validating the model using historical data\n",
        "6. Using the model to make predictions on new data\n",
        "7. Monitoring and evaluating the performance of the model over time\n",
        "\n",
        "Predictive analysis can help organizations make more informed decisions, improve efficiency, and gain a competitive advantage by leveraging insights from data.\n",
        "\n",
        "It is most commonly used in Retail, where workers try to predict which products would be most popular and try to advertise those products as much as possible, and also Healthcare, where algorithms analyze patterns and reveal prerequisites for diseases and suggest preventive treatment, predict the results of various treatments and choose the best option for each patient individually, and predict disease outbreaks and epidemics."
      ]
    },
    {
      "cell_type": "markdown",
      "metadata": {
        "id": "JXqCW63hqHp7"
      },
      "source": [
        "# 1. Intro to NumPy and the features it consists\n",
        "\n",
        "Numpy, by definition, is the fundamental package for scientific computing in Python which can be used to perform mathematical operations, providing multidimensional array objects, and makes data analysis much easier. Numpy is very important and useful when it comes to data analysis, as it can easily use its features to complete and perform any mathematical operation, as well as analyze data files. \n",
        "\n",
        "If you don't already have numpy installed, you can do so using ```conda install numpy``` or ```pip install numpy```\n",
        "\n",
        "Once that is complete, to import numpy in your code, all you must do is:"
      ]
    },
    {
      "cell_type": "code",
      "execution_count": 1,
      "metadata": {
        "id": "KYHgkH5JqHp7"
      },
      "outputs": [],
      "source": [
        "import numpy as np"
      ]
    },
    {
      "cell_type": "markdown",
      "metadata": {
        "id": "Woxf7IqWqHp8"
      },
      "source": [
        "# 2. Using NumPy to create arrays\n",
        "An array is the central data structure of the NumPy library. They are used as containers which are able to store more than one item at the same time. Using the function ```np.array``` is used to create an array, in which you can create multidimensional arrays. \n",
        "\n",
        "Shown below is how to create a 1D array:"
      ]
    },
    {
      "cell_type": "code",
      "execution_count": 2,
      "metadata": {
        "id": "NKPc4gIQqHp8",
        "outputId": "1afb8a26-8e9a-4108-c4e6-9b026d3b8bc3",
        "colab": {
          "base_uri": "https://localhost:8080/"
        }
      },
      "outputs": [
        {
          "output_type": "stream",
          "name": "stdout",
          "text": [
            "[1 2 3]\n"
          ]
        }
      ],
      "source": [
        "a = np.array([1, 2, 3])\n",
        "print(a) \n",
        "# this creates a 1D array"
      ]
    },
    {
      "cell_type": "markdown",
      "metadata": {
        "id": "j7Px-eFJqHp8"
      },
      "source": [
        "How could you create a 3D array based on knowing how to make a 1D array?"
      ]
    },
    {
      "cell_type": "code",
      "execution_count": 3,
      "metadata": {
        "id": "_4Bx32AaqHp9",
        "outputId": "6381425e-bcef-43c5-f557-ad196e45bdd5",
        "colab": {
          "base_uri": "https://localhost:8080/"
        }
      },
      "outputs": [
        {
          "output_type": "stream",
          "name": "stdout",
          "text": [
            "[[[ 0  1  2]\n",
            "  [ 3  4  5]\n",
            "  [ 6  7  8]]\n",
            "\n",
            " [[ 9 10 11]\n",
            "  [12 13 14]\n",
            "  [15 16 17]]\n",
            "\n",
            " [[18 19 20]\n",
            "  [21 22 23]\n",
            "  [24 25 26]]]\n"
          ]
        }
      ],
      "source": [
        "# create 3D array here\n",
        "\n",
        "arr1d = np.arange(27)\n",
        "\n",
        "# reshape the 1D array into a 3D array\n",
        "arr3d = arr1d.reshape((3, 3, 3))\n",
        "\n",
        "print(arr3d)"
      ]
    },
    {
      "cell_type": "markdown",
      "metadata": {
        "id": "r7nCR3dSqHp9"
      },
      "source": [
        "Arrays can be printed in different ways, especially a more readable format. As we have seen, arrays are printed in rows and columns, but we can change that by using the ```reshape``` function "
      ]
    },
    {
      "cell_type": "code",
      "execution_count": 4,
      "metadata": {
        "id": "3unpcfDVqHp9",
        "outputId": "33376319-2fb6-4498-a499-ccbc5608fac1",
        "colab": {
          "base_uri": "https://localhost:8080/"
        }
      },
      "outputs": [
        {
          "output_type": "stream",
          "name": "stdout",
          "text": [
            "[[1 2 3 4 5 6 7 8 9]]\n"
          ]
        }
      ],
      "source": [
        "c = np.array([[1, 2, 3], [4, 5, 6], [7, 8, 9]])\n",
        "print(c.reshape(1, 9)) # organizes it all in a single line of output"
      ]
    },
    {
      "cell_type": "markdown",
      "metadata": {
        "id": "O6Y5aZmdqHp9"
      },
      "source": [
        "In the code segment below, we can also specially select certain rows and columns from the array to further analyze selective data."
      ]
    },
    {
      "cell_type": "code",
      "execution_count": 5,
      "metadata": {
        "id": "QQpW2zTOqHp9",
        "outputId": "3959c677-a659-4f23-fbe2-0ac55d62fc2f",
        "colab": {
          "base_uri": "https://localhost:8080/"
        }
      },
      "outputs": [
        {
          "output_type": "stream",
          "name": "stdout",
          "text": [
            "[[4 5]\n",
            " [7 8]]\n"
          ]
        }
      ],
      "source": [
        "print(c[1:, :2])\n",
        "# the 1: means \"start at row 1 and select all the remaining rows\"\n",
        "# the :2 means \"select the first two columns\""
      ]
    },
    {
      "cell_type": "markdown",
      "metadata": {
        "id": "fNTNEI9UqHp9"
      },
      "source": [
        "# 3. Basic array operations\n",
        "\n",
        "One of the most basic operations that can be performed on arrays is arithmetic operations. With numpy, it is very easy to perform arithmetic operations on arrays. You can add, subtract, multiply and divide arrays, just like you would with regular numbers. When performing these operations, numpy applies the operation element-wise, meaning that it performs the operation on each element in the array separately. This makes it easy to perform operations on large amounts of data quickly and efficiently."
      ]
    },
    {
      "cell_type": "code",
      "execution_count": 6,
      "metadata": {
        "id": "CppWRfcZqHp9",
        "outputId": "4f5571cb-e101-4c57-ef36-7ff187b9fec2",
        "colab": {
          "base_uri": "https://localhost:8080/"
        }
      },
      "outputs": [
        {
          "output_type": "stream",
          "name": "stdout",
          "text": [
            "[5 7 9]\n",
            "[-3 -3 -3]\n",
            "[ 4 10 18]\n",
            "[0.25 0.4  0.5 ]\n"
          ]
        }
      ],
      "source": [
        "a = np.array([1, 2, 3])\n",
        "b = np.array([4, 5, 6])\n",
        "print(a + b) # adds each value based on the column the integer is in\n",
        "print(a - b) # subtracts each value based on the column the integer is in\n",
        "print(a * b) # multiplies each value based on the column the integer is in\n",
        "print(a / b) # divides each value based on the column the integer is in"
      ]
    },
    {
      "cell_type": "code",
      "execution_count": 7,
      "metadata": {
        "id": "LnzIKZLJqHp-",
        "outputId": "ffae77f9-b71d-4972-c5cc-67d0e6eeae66",
        "colab": {
          "base_uri": "https://localhost:8080/"
        }
      },
      "outputs": [
        {
          "output_type": "stream",
          "name": "stdout",
          "text": [
            "[ 54.59815003 148.4131591  403.42879349]\n",
            "[2.         2.23606798 2.44948974]\n"
          ]
        }
      ],
      "source": [
        "d = np.exp(b)\n",
        "e = np.sqrt(b)\n",
        "print(d)\n",
        "print(e)"
      ]
    },
    {
      "cell_type": "markdown",
      "metadata": {
        "id": "jfWxnrb7qHp-"
      },
      "source": [
        "From the knowledge of how to use more advanced mathematical expressions than the basic 4 mathematical operations such as exponent and square root, now can you code how to calculate the 3 main trig expressions (sin, cos, tan), natural log, and log10 of a 1D array."
      ]
    },
    {
      "cell_type": "code",
      "execution_count": 9,
      "metadata": {
        "id": "n1WXaucwqHp-",
        "outputId": "e643714c-0b9f-4bb6-aee5-04484e68c065",
        "colab": {
          "base_uri": "https://localhost:8080/"
        }
      },
      "outputs": [
        {
          "output_type": "stream",
          "name": "stdout",
          "text": [
            "[0.84147098 0.90929743 0.14112001]\n"
          ]
        }
      ],
      "source": [
        "# calculate sin\n",
        "print(np.sin(a))\n",
        "# calculate cos\n",
        "print(np.cos(a))\n",
        "# calculate tan\n",
        "print(np.tan(a))\n",
        "# calculate natural log\n",
        "print(np.log(a))\n",
        "# calculate log10\n",
        "print(np.log10(a))"
      ]
    },
    {
      "cell_type": "markdown",
      "metadata": {
        "id": "ujGuEMbOqHp-"
      },
      "source": [
        "# 4. Data analysis using numpy\n",
        "Numpy provides a convenient and powerful way to perform data analysis tasks on large datasets. One of the most common tasks in data analysis is finding the mean, median, and standard deviation of a dataset. Numpy provides functions to perform these operations quickly and easily. The mean function calculates the average value of the data, while the median function calculates the middle value in the data. The standard deviation function calculates how spread out the data is from the mean. Additionally, numpy provides functions to find the minimum and maximum values in the data. These functions are very useful for gaining insight into the properties of large datasets and can be used for a wide range of data analysis tasks."
      ]
    },
    {
      "cell_type": "code",
      "execution_count": 10,
      "metadata": {
        "id": "VPiZQHCvqHp-",
        "outputId": "809f089a-e911-423a-e0e8-324f0b29ae0b",
        "colab": {
          "base_uri": "https://localhost:8080/"
        }
      },
      "outputs": [
        {
          "output_type": "stream",
          "name": "stdout",
          "text": [
            "10.2\n",
            "12.0\n",
            "6.04648658313239\n",
            "2\n",
            "19\n"
          ]
        }
      ],
      "source": [
        "data = np.array([2, 5, 12, 13, 19])\n",
        "print(np.mean(data)) # finds the mean of the dataset\n",
        "print(np.median(data)) # finds the median of the dataset\n",
        "print(np.std(data)) # finds the standard deviation of the dataset\n",
        "print(np.min(data)) # finds the min of the dataset\n",
        "print(np.max(data)) # finds the max of the dataset"
      ]
    },
    {
      "cell_type": "markdown",
      "metadata": {
        "id": "Wk1EkNLaqHp-"
      },
      "source": [
        "Now from learning this, can you find a different way from how we can solve the sum or products of a dataset other than how we learned before?"
      ]
    },
    {
      "cell_type": "code",
      "execution_count": 11,
      "metadata": {
        "id": "mOXdGrTYqHp-",
        "outputId": "d574b131-b672-4089-ff8e-d26c35338b82",
        "colab": {
          "base_uri": "https://localhost:8080/"
        }
      },
      "outputs": [
        {
          "output_type": "stream",
          "name": "stdout",
          "text": [
            "51\n",
            "29640\n"
          ]
        }
      ],
      "source": [
        "# create a different way of solving the sum or products of a dataset from what we learned above\n",
        "print(np.sum(data))\n",
        "print(np.prod(data))"
      ]
    },
    {
      "cell_type": "markdown",
      "metadata": {
        "id": "VLdPL7QUqHp_"
      },
      "source": [
        "Numpy also has the ability to handle CSV files, which are commonly used to store and exchange large datasets. By importing CSV files into numpy arrays, we can easily perform complex operations and analysis on the data, making numpy an essential tool for data scientists and researchers.\n",
        "\n",
        "```genfromtxt``` and ```loadtxt``` are two functions in the numpy library that can be used to read data from text files, including CSV files."
      ]
    },
    {
      "cell_type": "markdown",
      "metadata": {
        "id": "ZDkHZP_bqHp_"
      },
      "source": [
        "```genfromtxt``` is a more advanced function that can be used to read text files that have more complex structures, including CSV files. ```genfromtxt``` can handle files that have missing or invalid data, or files that have columns of different data types. It can also be used to skip header lines or to read only specific columns from the file. "
      ]
    },
    {
      "cell_type": "code",
      "execution_count": 13,
      "metadata": {
        "id": "Jd02-wH5qHp_",
        "outputId": "628fd5ea-6cb9-48ca-d8f8-3dbc7f5f0a18",
        "colab": {
          "base_uri": "https://localhost:8080/"
        }
      },
      "outputs": [
        {
          "output_type": "stream",
          "name": "stdout",
          "text": [
            "File downloaded successfully\n",
            "[['Name' ' Position' ' Average' ' HR' ' RBI' ' OPS' ' JerseyNumber']\n",
            " ['Manny Machado' ' 3B' ' .298' ' 32' ' 102' ' .897' ' 13']\n",
            " ['Fernando Tatis Jr' ' RF' ' .281' ' 42' ' 97' ' .975' ' 23']\n",
            " ['Juan Soto' ' LF' ' .242' ' 27' ' 62' ' .853' ' 22']\n",
            " ['Xander Bogaerts' ' SS' ' .307' ' 15' ' 73' ' .833' ' 2']\n",
            " ['Nelson Cruz' ' DH' ' .234' ' 10' ' 64' ' .651' ' 32']\n",
            " ['Matt Carpenter' ' DH' ' .305' ' 15' ' 37' ' 1.138' ' 14']\n",
            " ['Jake Cronenworth' ' 1B' ' .239' ' 17' ' 88' ' .722' ' 9']\n",
            " ['Ha-Seong Kim' ' 2B' ' .251' ' 11' ' 59' ' .708' ' 7']\n",
            " ['Trent Grisham' ' CF' ' .184' ' 17' ' 53' ' .626' ' 1']\n",
            " ['Luis Campusano' ' C' ' .250' ' 1' ' 5' ' .593' ' 12']\n",
            " ['Austin Nola' ' C' ' .251' ' 4' ' 40' ' .649' ' 26']\n",
            " ['Jose Azocar' ' OF' ' .257' ' 0' ' 10' ' .630' ' 28']]\n"
          ]
        }
      ],
      "source": [
        "import numpy as np\n",
        "import requests\n",
        "\n",
        "url = 'https://raw.githubusercontent.com/paravsalaniwal/T3Project/master/_notebooks/files/padres.csv'\n",
        "response = requests.get(url)\n",
        "\n",
        "if response.status_code == 200:\n",
        "    with open('padres.csv', 'wb') as f:\n",
        "        f.write(response.content)\n",
        "        print('File downloaded successfully')\n",
        "else:\n",
        "    print('Error downloading file')\n",
        "\n",
        "padres = np.genfromtxt('padres.csv', delimiter=',', dtype=str, encoding='utf-8')\n",
        "# delimiter indicates that the data is separated into columns which is distinguished by commas\n",
        "# genfromtxt is used to read the csv file itself\n",
        "# dtype is used to have numpy automatically detect the data type in the csv file\n",
        "\n",
        "print(padres)"
      ]
    },
    {
      "cell_type": "markdown",
      "metadata": {
        "id": "Tt_yZKpnqHp_"
      },
      "source": [
        "```loadtxt``` is a simpler function that can be used to read simple text files that have a regular structure, such as files that have only one type of data (such as all integers or all floats). ```loadtxt``` can be faster than ```genfromtxt``` because it assumes that the data in the file is well-structured and can be easily parsed."
      ]
    },
    {
      "cell_type": "code",
      "execution_count": 15,
      "metadata": {
        "id": "0ruqr0wwqHp_",
        "outputId": "b7367e2a-b3b1-4eb3-fc8a-39f7cd9773dc",
        "colab": {
          "base_uri": "https://localhost:8080/"
        }
      },
      "outputs": [
        {
          "output_type": "stream",
          "name": "stdout",
          "text": [
            "[['Name' ' Position' ' Average' ' HR' ' RBI' ' OPS' ' JerseyNumber']\n",
            " ['Manny Machado' ' 3B' ' .298' ' 32' ' 102' ' .897' ' 13']\n",
            " ['Fernando Tatis Jr' ' RF' ' .281' ' 42' ' 97' ' .975' ' 23']\n",
            " ['Juan Soto' ' LF' ' .242' ' 27' ' 62' ' .853' ' 22']\n",
            " ['Xander Bogaerts' ' SS' ' .307' ' 15' ' 73' ' .833' ' 2']\n",
            " ['Nelson Cruz' ' DH' ' .234' ' 10' ' 64' ' .651' ' 32']\n",
            " ['Matt Carpenter' ' DH' ' .305' ' 15' ' 37' ' 1.138' ' 14']\n",
            " ['Jake Cronenworth' ' 1B' ' .239' ' 17' ' 88' ' .722' ' 9']\n",
            " ['Ha-Seong Kim' ' 2B' ' .251' ' 11' ' 59' ' .708' ' 7']\n",
            " ['Trent Grisham' ' CF' ' .184' ' 17' ' 53' ' .626' ' 1']\n",
            " ['Luis Campusano' ' C' ' .250' ' 1' ' 5' ' .593' ' 12']\n",
            " ['Austin Nola' ' C' ' .251' ' 4' ' 40' ' .649' ' 26']\n",
            " ['Jose Azocar' ' OF' ' .257' ' 0' ' 10' ' .630' ' 28']]\n"
          ]
        }
      ],
      "source": [
        "import numpy as np\n",
        "\n",
        "padres = np.loadtxt('padres.csv', delimiter=',', dtype=str, encoding='utf-8')\n",
        "print(padres)"
      ]
    },
    {
      "cell_type": "code",
      "execution_count": 16,
      "metadata": {
        "id": "hvqmORVOqHp_",
        "outputId": "77182f63-fe31-4dde-fccc-23d87e2a7c13",
        "colab": {
          "base_uri": "https://localhost:8080/"
        }
      },
      "outputs": [
        {
          "output_type": "stream",
          "name": "stdout",
          "text": [
            "Name, Position, Average, HR, RBI, OPS, JerseyNumber\n",
            "Manny Machado, 3B, .298, 32, 102, .897, 13\n",
            "Fernando Tatis Jr, RF, .281, 42, 97, .975, 23\n",
            "Juan Soto, LF, .242, 27, 62, .853, 22\n",
            "Xander Bogaerts, SS, .307, 15, 73, .833, 2\n",
            "Nelson Cruz, DH, .234, 10, 64, .651, 32\n",
            "Matt Carpenter, DH, .305, 15, 37, 1.138, 14\n",
            "Jake Cronenworth, 1B, .239, 17, 88, .722, 9\n",
            "Ha-Seong Kim, 2B, .251, 11, 59, .708, 7\n",
            "Trent Grisham, CF, .184, 17, 53, .626, 1\n",
            "Luis Campusano, C, .250, 1, 5, .593, 12\n",
            "Austin Nola, C, .251, 4, 40, .649, 26\n",
            "Jose Azocar, OF, .257, 0, 10, .630, 28\n"
          ]
        }
      ],
      "source": [
        "for i in padres:\n",
        "    print(\",\".join(i))"
      ]
    },
    {
      "cell_type": "markdown",
      "metadata": {
        "id": "LdELnl62qHp_"
      },
      "source": [
        "# Pandas\n",
        "### What is Pandas\n",
        "Pandas is a Python library used for working with data sets. A python library is something  It has functions for analyzing, cleaning, exploring, and manipulating data.\n",
        "\n",
        "### Why Use Pandas?\n",
        "Pandas allows us to analyze big data and make conclusions based on statistical theories. Pandas can clean messy data sets, and make them readable and relevant. Also it is a part of data analysis, and data manipulation.\n",
        "\n",
        "### What Can Pandas Do?\n",
        "Pandas gives you answers about the data. Like:\n",
        "- Is there a correlation between two or more columns?\n",
        "- What is average value\n",
        "- Max value\n",
        "- Min value\n",
        "- How to load data \n",
        "- Delete data \n",
        "- Sort Data.\n",
        "\n",
        "Pandas are also able to delete rows that are not relevant, or contains wrong values, like empty or NULL values. This is called cleaning the data."
      ]
    },
    {
      "cell_type": "markdown",
      "metadata": {
        "id": "KU0PZhxbqHp_"
      },
      "source": [
        "# Basics of Pandas."
      ]
    },
    {
      "cell_type": "code",
      "execution_count": 17,
      "metadata": {
        "id": "qcKaCFEEqHp_"
      },
      "outputs": [],
      "source": [
        "import pandas as pd\n",
        "# What this does is it calls the python pandas library and this code segment is needed whenever incorporating pandas."
      ]
    },
    {
      "cell_type": "markdown",
      "metadata": {
        "id": "0nbBaXYEqHp_"
      },
      "source": [
        "#### DICTIONARIES AND DATASETS\n",
        "- One way you are able to manipulate a pandas data set is by creating a dictionary and calling it as seen with the dict data 1 and pd.dataframe which is a way to print the set."
      ]
    },
    {
      "cell_type": "code",
      "execution_count": 18,
      "metadata": {
        "id": "ze0eVfyGqHp_",
        "outputId": "e1401fa8-a816-4200-b331-8c6184b94d9f",
        "colab": {
          "base_uri": "https://localhost:8080/"
        }
      },
      "outputs": [
        {
          "output_type": "stream",
          "name": "stdout",
          "text": [
            "      teams  standings\n",
            "0     BARCA          1\n",
            "1      REAL          2\n",
            "2  ATLETICO          3\n"
          ]
        }
      ],
      "source": [
        "import pandas as pd\n",
        "\n",
        "data1 = {\n",
        "  'teams': [\"BARCA\", \"REAL\", \"ATLETICO\"],\n",
        "  'standings': [1, 2, 3]\n",
        "}\n",
        "\n",
        "myvar = pd.DataFrame(data1)\n",
        "\n",
        "print(myvar)\n"
      ]
    },
    {
      "cell_type": "markdown",
      "metadata": {
        "id": "bC0LBbmBqHp_"
      },
      "source": [
        "### Indexing and manipulaton of data through lists.\n",
        "- With pandas you can also organize the data which is one of its biggest perks, we call this indexing, this is when we define the first column in a data frame."
      ]
    },
    {
      "cell_type": "code",
      "execution_count": 19,
      "metadata": {
        "id": "_V-oC0a1qHp_",
        "outputId": "8895972c-2118-4e79-d531-badb85e76c28",
        "colab": {
          "base_uri": "https://localhost:8080/"
        }
      },
      "outputs": [
        {
          "output_type": "stream",
          "name": "stdout",
          "text": [
            "math       1.0\n",
            "science    1.0\n",
            "pe         0.2\n",
            "dtype: float64\n"
          ]
        }
      ],
      "source": [
        "# Here is an example using lists and an index.\n",
        "import pandas as pd \n",
        "\n",
        "score = [5/5, 5/5, 1/5]\n",
        "\n",
        "myvar = pd.Series(score, index = [\"math\", \"science\", \"pe\"])\n",
        "\n",
        "print(myvar)"
      ]
    },
    {
      "cell_type": "markdown",
      "metadata": {
        "id": "re2i2jlhqHp_"
      },
      "source": [
        "# Pandas Classes \n",
        "Within pandas the library consits of a lot of functions which allow you to manipulate datasets in lists dictionsaries and csv files here are some of the ones we are going to cover (hint: take notes on these)\n",
        "- Series\n",
        "- Index\n",
        "- PeriodIndex\n",
        "- DataframeGroupedBy\n",
        "- Categorical\n",
        "- Time Stamp\n"
      ]
    },
    {
      "cell_type": "markdown",
      "metadata": {
        "id": "ke1bZorMqHp_"
      },
      "source": [
        "#  PeriodIndex \n",
        "- This allows for a way to repeat data over time that it occurs as seen from january 2022 to december 2023. You can use Y for years, M for months, and D for days.\n"
      ]
    },
    {
      "cell_type": "code",
      "execution_count": 20,
      "metadata": {
        "id": "OS0_Q72iqHp_",
        "outputId": "58d914ff-eef9-4d1c-ee1b-3c2481881556",
        "colab": {
          "base_uri": "https://localhost:8080/"
        }
      },
      "outputs": [
        {
          "output_type": "stream",
          "name": "stdout",
          "text": [
            "PeriodIndex(['2022-01', '2022-02', '2022-03', '2022-04', '2022-05', '2022-06',\n",
            "             '2022-07', '2022-08', '2022-09', '2022-10', '2022-11', '2022-12'],\n",
            "            dtype='period[M]')\n"
          ]
        }
      ],
      "source": [
        "import pandas as pd\n",
        "\n",
        "\n",
        "time = pd.period_range('2022-01', '2022-12', freq='M')\n",
        "\n",
        "\n",
        "print(time)"
      ]
    },
    {
      "cell_type": "markdown",
      "metadata": {
        "id": "x80urwgpqHp_"
      },
      "source": [
        "Now implement a way to show a period index from June 2022 to July 2023 in days."
      ]
    },
    {
      "cell_type": "code",
      "execution_count": 21,
      "metadata": {
        "id": "cLBimAtPqHqA",
        "outputId": "364da38e-a615-4c89-ef68-7c64a5b021f0",
        "colab": {
          "base_uri": "https://localhost:8080/"
        }
      },
      "outputs": [
        {
          "output_type": "stream",
          "name": "stdout",
          "text": [
            "PeriodIndex(['2022-06', '2022-07', '2022-08', '2022-09', '2022-10', '2022-11',\n",
            "             '2022-12', '2023-01', '2023-02', '2023-03', '2023-04', '2023-05',\n",
            "             '2023-06', '2023-07'],\n",
            "            dtype='period[M]')\n"
          ]
        }
      ],
      "source": [
        "# use period index to show - in days - June 2022 to 2023\n",
        "time = pd.period_range('2022-06', '2023-07', freq='M')\n",
        "\n",
        "\n",
        "print(time)"
      ]
    },
    {
      "cell_type": "markdown",
      "metadata": {
        "id": "h9YKy9gkqHqA"
      },
      "source": [
        "# Dataframe Grouped By \n",
        "- This allows for you to organize your data and calculate the different functions such as\n",
        "- count(): returns the number of non-null values in each group.\n",
        "- sum(): returns the sum of values in each group.\n",
        "- mean(): returns the mean of values in each group.\n",
        "- min(): returns the minimum value in each group.\n",
        "- max(): returns the maximum value in each group.\n",
        "- median(): returns the median of values in each group.\n",
        "- var(): returns the variance of values in each group.\n",
        "- agg(): applies one or more functions to each group and returns a new DataFrame with the results.\n"
      ]
    },
    {
      "cell_type": "code",
      "execution_count": 23,
      "metadata": {
        "id": "g2UgRJRpqHqA",
        "outputId": "5d027851-e807-460d-844d-20490eedfee3",
        "colab": {
          "base_uri": "https://localhost:8080/"
        }
      },
      "outputs": [
        {
          "output_type": "stream",
          "name": "stdout",
          "text": [
            "<pandas.core.groupby.generic.DataFrameGroupBy object at 0x7f656639e830>\n"
          ]
        }
      ],
      "source": [
        "import pandas as pd\n",
        "\n",
        "data = {\n",
        "    'Category': ['E', 'F', 'E', 'F', 'E', 'F', 'E', 'F'],\n",
        "    'Value': [100, 250, 156, 255, 240, 303, 253, 3014]\n",
        "}\n",
        "df = pd.DataFrame(data)\n",
        "\n",
        "\n",
        "grouped = df.groupby('Category')#GUESS WHAT THIS WOULD BE IF WE WERE LOOKING FOR COMBINED TOTALS!()\n",
        "\n",
        "print(grouped)\n"
      ]
    },
    {
      "cell_type": "markdown",
      "metadata": {
        "id": "7HGUD17ZqHqA"
      },
      "source": [
        "### Categorical \n",
        "- This sets up a category for something and puts it within the categories and allows for better orginzation "
      ]
    },
    {
      "cell_type": "code",
      "execution_count": 24,
      "metadata": {
        "id": "goRsK--9qHqA",
        "outputId": "5b4795cd-9776-47b7-f052-832e4587e5cd",
        "colab": {
          "base_uri": "https://localhost:8080/"
        }
      },
      "outputs": [
        {
          "output_type": "stream",
          "name": "stdout",
          "text": [
            "['yellow', 'orange', 'blue', 'yellow', 'orange']\n",
            "Categories (3, object): ['yellow', 'orange', 'blue']\n"
          ]
        }
      ],
      "source": [
        "import pandas as pd\n",
        "\n",
        "colors = pd.Categorical(['yellow', 'orange', 'blue', 'yellow', 'orange'], categories=['yellow', 'orange', 'blue'])\n",
        "\n",
        "print(colors)\n"
      ]
    },
    {
      "cell_type": "markdown",
      "metadata": {
        "id": "yZNSlHaQqHqA"
      },
      "source": [
        "### Timestamp Class\n",
        "- This allows to display a single time which can be useful when working with datasets that deal with time allowing you to manipulate the time you do something and how you do it. "
      ]
    },
    {
      "cell_type": "code",
      "execution_count": 25,
      "metadata": {
        "id": "HXNEHfvqqHqA",
        "outputId": "016996b3-d539-45f7-8dcb-9101ffa0ab67",
        "colab": {
          "base_uri": "https://localhost:8080/"
        }
      },
      "outputs": [
        {
          "output_type": "stream",
          "name": "stdout",
          "text": [
            "2023-02-05 02:00:00\n"
          ]
        }
      ],
      "source": [
        "import pandas as pd\n",
        "\n",
        "\n",
        "timing = pd.Timestamp('2023-02-05 02:00:00')\n",
        "\n",
        "print(timing)\n"
      ]
    },
    {
      "cell_type": "markdown",
      "metadata": {
        "id": "2ClOTie1qHqA"
      },
      "source": [
        "# CSV FILES!\n",
        "- A csv file contains data and within pandas you are able to call the function and you are able to manipulate the data with the certain data classes talked about above. "
      ]
    },
    {
      "cell_type": "markdown",
      "metadata": {
        "id": "K-mhFQ77qHqA"
      },
      "source": [
        "- Name, Position, Average, HR, RBI, OPS, JerseyNumber\n",
        "- Manny Machado, 3B, .298, 32, 102, .897, 13\n",
        "- Tatis Jr, RF, .281, 42, 97, .975, 23\n",
        "- Juan Soto, LF, .242, 27, 62, .853, 22\n",
        "- Xanger Bogaerts, SS, .307, 15, 73, .833, 2\n",
        "- Nelson Cruz, DH, .234, 10, 64, .651, 32\n",
        "- Matt Carpenter, DH, .305, 15, 37, 1.138, 14\n",
        "- Cronezone, 1B, .239, 17, 88, .722, 9\n",
        "- Ha-Seong Kim, 2B, .251, 11, 59, .708, 7\n",
        "- Trent Grisham, CF, .184, 17, 53, .626, 1\n",
        "- Luis Campusano, C, .250, 1, 5, .593, 12\n",
        "- Austin Nola, C, .251, 4, 40, .649, 26\n",
        "- Jose Azocar, OF, .257, 0, 10, .630, 28\n",
        "\n",
        "QUESTION: WHAT DO YOU GUYS THINK THE INDEX FOR THIS WOULD BE?"
      ]
    },
    {
      "cell_type": "markdown",
      "metadata": {
        "id": "ODPBZFLSqHqA"
      },
      "source": [
        "Can you explain what is going on in this code segment below. (hint: define what ascending= false means, and df. head means)\n",
        "\n",
        "#ascending=False makes sure that the list isn't ascending\n",
        "#df.head is the first 10 data entries in the dataset"
      ]
    },
    {
      "cell_type": "code",
      "execution_count": 26,
      "metadata": {
        "id": "AJyUm1nGqHqA",
        "outputId": "65700ca8-9125-4456-dc9d-f7cb0d33b501",
        "colab": {
          "base_uri": "https://localhost:8080/"
        }
      },
      "outputs": [
        {
          "output_type": "stream",
          "name": "stdout",
          "text": [
            "--Duration Top 10---------\n",
            "                Name  Position   Average   HR   RBI    OPS   JerseyNumber\n",
            "3    Xander Bogaerts        SS     0.307   15    73  0.833              2\n",
            "8      Trent Grisham        CF     0.184   17    53  0.626              1\n",
            "4        Nelson Cruz        DH     0.234   10    64  0.651             32\n",
            "5     Matt Carpenter        DH     0.305   15    37  1.138             14\n",
            "0      Manny Machado        3B     0.298   32   102  0.897             13\n",
            "9     Luis Campusano         C     0.250    1     5  0.593             12\n",
            "2          Juan Soto        LF     0.242   27    62  0.853             22\n",
            "11       Jose Azocar        OF     0.257    0    10  0.630             28\n",
            "6   Jake Cronenworth        1B     0.239   17    88  0.722              9\n",
            "7       Ha-Seong Kim        2B     0.251   11    59  0.708              7\n",
            "--Duration Bottom 10------\n",
            "                 Name  Position   Average   HR   RBI    OPS   JerseyNumber\n",
            "4         Nelson Cruz        DH     0.234   10    64  0.651             32\n",
            "5      Matt Carpenter        DH     0.305   15    37  1.138             14\n",
            "0       Manny Machado        3B     0.298   32   102  0.897             13\n",
            "9      Luis Campusano         C     0.250    1     5  0.593             12\n",
            "2           Juan Soto        LF     0.242   27    62  0.853             22\n",
            "11        Jose Azocar        OF     0.257    0    10  0.630             28\n",
            "6    Jake Cronenworth        1B     0.239   17    88  0.722              9\n",
            "7        Ha-Seong Kim        2B     0.251   11    59  0.708              7\n",
            "1   Fernando Tatis Jr        RF     0.281   42    97  0.975             23\n",
            "10        Austin Nola         C     0.251    4    40  0.649             26\n",
            "Name,  Position,  Average,  HR,  RBI,  OPS,  JerseyNumber\n"
          ]
        }
      ],
      "source": [
        "#ascending=False makes sure that the list isn't ascending\n",
        "#df.head is the first 10 data entries in the dataset\n",
        "import pandas as pd\n",
        "\n",
        "#read csv and sort 'Duration' largest to smallest\n",
        "df = pd.read_csv('padres.csv').sort_values(by=['Name'], ascending=False)\n",
        "\n",
        "print(\"--Duration Top 10---------\")\n",
        "print(df.head(10))\n",
        "\n",
        "print(\"--Duration Bottom 10------\")\n",
        "print(df.tail(10))\n",
        "print(', '.join(df.tail(10)))"
      ]
    },
    {
      "cell_type": "code",
      "execution_count": 28,
      "metadata": {
        "id": "7y7hCdScqHqA",
        "outputId": "c3ce296d-5087-415a-a416-b0bf02d06daa",
        "colab": {
          "base_uri": "https://localhost:8080/"
        }
      },
      "outputs": [
        {
          "output_type": "stream",
          "name": "stdout",
          "text": [
            "File downloaded successfully\n",
            "The mode of the 'total_rooms' column is: 0    1527.0\n",
            "Name: total_rooms, dtype: float64\n"
          ]
        }
      ],
      "source": [
        "import pandas as pd\n",
        "import requests\n",
        "\n",
        "url = 'https://raw.githubusercontent.com/paravsalaniwal/T3Project/master/_notebooks/files/housing.csv'\n",
        "response = requests.get(url)\n",
        "\n",
        "if response.status_code == 200:\n",
        "    with open('housing.csv', 'wb') as f:\n",
        "        f.write(response.content)\n",
        "        print('File downloaded successfully')\n",
        "else:\n",
        "    print('Error downloading file')\n",
        "\n",
        "df = pd.read_csv(\"housing.csv\")\n",
        "\n",
        "\n",
        "mode_total_rooms = df['total_rooms'].mode()\n",
        "\n",
        "\n",
        "print(f\"The mode of the 'total_rooms' column is: {mode_total_rooms}\")"
      ]
    },
    {
      "cell_type": "code",
      "execution_count": 30,
      "metadata": {
        "id": "mH23aZ-UqHqA",
        "outputId": "86acc50d-d7f9-42eb-f306-1ead9a333329",
        "colab": {
          "base_uri": "https://localhost:8080/"
        }
      },
      "outputs": [
        {
          "output_type": "stream",
          "name": "stdout",
          "text": [
            "             total_rooms  population  longitude\n",
            "total_rooms                                    \n",
            "2.0                  2.0         6.0          1\n",
            "6.0                  6.0         8.0          1\n",
            "8.0                  8.0        13.0          1\n",
            "11.0                11.0        24.0          1\n",
            "12.0                12.0        18.0          1\n",
            "...                  ...         ...        ...\n",
            "30450.0          30450.0      9419.0          1\n",
            "32054.0          32054.0     15507.0          1\n",
            "32627.0          32627.0     28566.0          1\n",
            "37937.0          37937.0     16122.0          1\n",
            "39320.0          39320.0     16305.0          1\n",
            "\n",
            "[5926 rows x 3 columns]\n"
          ]
        }
      ],
      "source": [
        "import pandas as pd\n",
        "\n",
        "df = pd.read_csv(\"housing.csv\")\n",
        "\n",
        "\n",
        "grouped_df = df.groupby('total_rooms')\n",
        "\n",
        "\n",
        "agg_df = grouped_df.agg({'total_rooms': 'sum', 'population': 'mean', 'longitude': 'count'})\n",
        "\n",
        "# WHAT DO YOU GUYS THINK df.agg means in context of pandas and what does it stand for.\n",
        "\n",
        "\n",
        "print(agg_df)\n"
      ]
    },
    {
      "cell_type": "markdown",
      "metadata": {
        "id": "5qoGYVrwqHqA"
      },
      "source": [
        "# Project\n",
        "[Link](https://paravsalaniwal.github.io/T3Project/DataAnalysisProject/)"
      ]
    },
    {
      "cell_type": "markdown",
      "metadata": {
        "id": "U6vx-YzpqHqA"
      },
      "source": [
        "# Popcorn Hacks\n",
        "- Complete fill in the blanks for Predictive Analysis and Numpy lessons\n",
        "- Takes notes on Panda lesson where it asks you to\n",
        "- Complete code segment tasks in Panda and Numpy lessons\n",
        "- Answer the questions in Panda lesson\n",
        "\n",
        "# Main Hack\n",
        "- Make a data file - content is up to you, just make sure there are integer values - and print\n",
        "- Run Panda and Numpy commands\n",
        "    - Panda:\n",
        "        - Find Min and Max values\n",
        "        - Sort in order - can be order of least to greatest or vice versa\n",
        "        - Create a smaller dataframe and merge it with your data file\n",
        "    - Numpy:\n",
        "        -  Random number generation\n",
        "        - create a multi-dimensional array (multiple elements)\n",
        "        - create an array with linearly spaced intervals between values\n"
      ]
    },
    {
      "cell_type": "code",
      "source": [
        "import pandas as pd\n",
        "\n",
        "df = pd.read_csv(\"file - Sheet1 (1).csv\")\n",
        "print(min(df))\n",
        "print(max(df))\n",
        "print(df.sort_values(by=\"id\",ascending=True))\n",
        "pd.merge(df,df,how='outer')\n",
        "\n"
      ],
      "metadata": {
        "id": "wcs97syri8TD",
        "outputId": "09580e26-70cb-497e-bbbb-59a9da35f33e",
        "colab": {
          "base_uri": "https://localhost:8080/",
          "height": 251
        }
      },
      "execution_count": 45,
      "outputs": [
        {
          "output_type": "stream",
          "name": "stdout",
          "text": [
            "id\n",
            "value\n",
            "   id  value\n",
            "0   1      4\n",
            "1   2      5\n",
            "2   3      6\n"
          ]
        },
        {
          "output_type": "execute_result",
          "data": {
            "text/plain": [
              "   id  value\n",
              "0   1      4\n",
              "1   2      5\n",
              "2   3      6"
            ],
            "text/html": [
              "\n",
              "  <div id=\"df-8233e461-4f2a-4ad7-9458-35ec9740bafc\">\n",
              "    <div class=\"colab-df-container\">\n",
              "      <div>\n",
              "<style scoped>\n",
              "    .dataframe tbody tr th:only-of-type {\n",
              "        vertical-align: middle;\n",
              "    }\n",
              "\n",
              "    .dataframe tbody tr th {\n",
              "        vertical-align: top;\n",
              "    }\n",
              "\n",
              "    .dataframe thead th {\n",
              "        text-align: right;\n",
              "    }\n",
              "</style>\n",
              "<table border=\"1\" class=\"dataframe\">\n",
              "  <thead>\n",
              "    <tr style=\"text-align: right;\">\n",
              "      <th></th>\n",
              "      <th>id</th>\n",
              "      <th>value</th>\n",
              "    </tr>\n",
              "  </thead>\n",
              "  <tbody>\n",
              "    <tr>\n",
              "      <th>0</th>\n",
              "      <td>1</td>\n",
              "      <td>4</td>\n",
              "    </tr>\n",
              "    <tr>\n",
              "      <th>1</th>\n",
              "      <td>2</td>\n",
              "      <td>5</td>\n",
              "    </tr>\n",
              "    <tr>\n",
              "      <th>2</th>\n",
              "      <td>3</td>\n",
              "      <td>6</td>\n",
              "    </tr>\n",
              "  </tbody>\n",
              "</table>\n",
              "</div>\n",
              "      <button class=\"colab-df-convert\" onclick=\"convertToInteractive('df-8233e461-4f2a-4ad7-9458-35ec9740bafc')\"\n",
              "              title=\"Convert this dataframe to an interactive table.\"\n",
              "              style=\"display:none;\">\n",
              "        \n",
              "  <svg xmlns=\"http://www.w3.org/2000/svg\" height=\"24px\"viewBox=\"0 0 24 24\"\n",
              "       width=\"24px\">\n",
              "    <path d=\"M0 0h24v24H0V0z\" fill=\"none\"/>\n",
              "    <path d=\"M18.56 5.44l.94 2.06.94-2.06 2.06-.94-2.06-.94-.94-2.06-.94 2.06-2.06.94zm-11 1L8.5 8.5l.94-2.06 2.06-.94-2.06-.94L8.5 2.5l-.94 2.06-2.06.94zm10 10l.94 2.06.94-2.06 2.06-.94-2.06-.94-.94-2.06-.94 2.06-2.06.94z\"/><path d=\"M17.41 7.96l-1.37-1.37c-.4-.4-.92-.59-1.43-.59-.52 0-1.04.2-1.43.59L10.3 9.45l-7.72 7.72c-.78.78-.78 2.05 0 2.83L4 21.41c.39.39.9.59 1.41.59.51 0 1.02-.2 1.41-.59l7.78-7.78 2.81-2.81c.8-.78.8-2.07 0-2.86zM5.41 20L4 18.59l7.72-7.72 1.47 1.35L5.41 20z\"/>\n",
              "  </svg>\n",
              "      </button>\n",
              "      \n",
              "  <style>\n",
              "    .colab-df-container {\n",
              "      display:flex;\n",
              "      flex-wrap:wrap;\n",
              "      gap: 12px;\n",
              "    }\n",
              "\n",
              "    .colab-df-convert {\n",
              "      background-color: #E8F0FE;\n",
              "      border: none;\n",
              "      border-radius: 50%;\n",
              "      cursor: pointer;\n",
              "      display: none;\n",
              "      fill: #1967D2;\n",
              "      height: 32px;\n",
              "      padding: 0 0 0 0;\n",
              "      width: 32px;\n",
              "    }\n",
              "\n",
              "    .colab-df-convert:hover {\n",
              "      background-color: #E2EBFA;\n",
              "      box-shadow: 0px 1px 2px rgba(60, 64, 67, 0.3), 0px 1px 3px 1px rgba(60, 64, 67, 0.15);\n",
              "      fill: #174EA6;\n",
              "    }\n",
              "\n",
              "    [theme=dark] .colab-df-convert {\n",
              "      background-color: #3B4455;\n",
              "      fill: #D2E3FC;\n",
              "    }\n",
              "\n",
              "    [theme=dark] .colab-df-convert:hover {\n",
              "      background-color: #434B5C;\n",
              "      box-shadow: 0px 1px 3px 1px rgba(0, 0, 0, 0.15);\n",
              "      filter: drop-shadow(0px 1px 2px rgba(0, 0, 0, 0.3));\n",
              "      fill: #FFFFFF;\n",
              "    }\n",
              "  </style>\n",
              "\n",
              "      <script>\n",
              "        const buttonEl =\n",
              "          document.querySelector('#df-8233e461-4f2a-4ad7-9458-35ec9740bafc button.colab-df-convert');\n",
              "        buttonEl.style.display =\n",
              "          google.colab.kernel.accessAllowed ? 'block' : 'none';\n",
              "\n",
              "        async function convertToInteractive(key) {\n",
              "          const element = document.querySelector('#df-8233e461-4f2a-4ad7-9458-35ec9740bafc');\n",
              "          const dataTable =\n",
              "            await google.colab.kernel.invokeFunction('convertToInteractive',\n",
              "                                                     [key], {});\n",
              "          if (!dataTable) return;\n",
              "\n",
              "          const docLinkHtml = 'Like what you see? Visit the ' +\n",
              "            '<a target=\"_blank\" href=https://colab.research.google.com/notebooks/data_table.ipynb>data table notebook</a>'\n",
              "            + ' to learn more about interactive tables.';\n",
              "          element.innerHTML = '';\n",
              "          dataTable['output_type'] = 'display_data';\n",
              "          await google.colab.output.renderOutput(dataTable, element);\n",
              "          const docLink = document.createElement('div');\n",
              "          docLink.innerHTML = docLinkHtml;\n",
              "          element.appendChild(docLink);\n",
              "        }\n",
              "      </script>\n",
              "    </div>\n",
              "  </div>\n",
              "  "
            ]
          },
          "metadata": {},
          "execution_count": 45
        }
      ]
    },
    {
      "cell_type": "code",
      "source": [
        "import numpy as np\n",
        "\n",
        "# Generate random numbers\n",
        "rand_nums = np.random.rand(5)  # generates an array of 5 random numbers between 0 and 1\n",
        "print(\"Random numbers:\", rand_nums)\n",
        "\n",
        "# Create a multi-dimensional array\n",
        "multi_dim_array = np.array([[1, 2], [3, 4], [5, 6]])\n",
        "print(\"Multi-dimensional array:\", multi_dim_array)\n",
        "\n",
        "# Create an array with linearly spaced intervals\n",
        "lin_spaced_array = np.linspace(0, 1, num=11)  # creates an array of 11 evenly spaced numbers between 0 and 1\n",
        "print(\"Linearly spaced array:\", lin_spaced_array)"
      ],
      "metadata": {
        "id": "ua6QqvqUtL3N",
        "outputId": "92deb764-9bce-4269-be91-fba781086229",
        "colab": {
          "base_uri": "https://localhost:8080/"
        }
      },
      "execution_count": 46,
      "outputs": [
        {
          "output_type": "stream",
          "name": "stdout",
          "text": [
            "Random numbers: [0.05588783 0.38692591 0.6432729  0.52600627 0.56349451]\n",
            "Multi-dimensional array: [[1 2]\n",
            " [3 4]\n",
            " [5 6]]\n",
            "Linearly spaced array: [0.  0.1 0.2 0.3 0.4 0.5 0.6 0.7 0.8 0.9 1. ]\n"
          ]
        }
      ]
    },
    {
      "cell_type": "markdown",
      "metadata": {
        "id": "-NI9JWHcqHqA"
      },
      "source": [
        "# Grading\n",
        "The grading will be binary - all or nothing; no partial credit\n",
        "- 0.3 for all the popcorn hacks\n",
        "- 0.6 for the main hack - CSV file\n",
        "- 0.1 for going above and beyond in the main hack"
      ]
    }
  ],
  "metadata": {
    "kernelspec": {
      "display_name": "base",
      "language": "python",
      "name": "python3"
    },
    "language_info": {
      "name": "python",
      "version": "3.9.12"
    },
    "orig_nbformat": 4,
    "colab": {
      "provenance": []
    }
  },
  "nbformat": 4,
  "nbformat_minor": 0
}