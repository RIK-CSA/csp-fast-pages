{
  "cells": [
    {
      "cell_type": "markdown",
      "metadata": {
        "id": "ePlxQq_91s9A"
      },
      "source": [
        "# Hacks for 3.3 and 3.4\n",
        "\n",
        "- toc: true\n",
        "- title: Homework Assignment for 3.3-4\n",
        "- description: Completing the Hacks given to us for Unit 3, Section 3 and 4.\n",
        "- categories: [week14, tri2]\n",
        "- badges: true\n",
        "- comments: true"
      ]
    },
    {
      "cell_type": "markdown",
      "metadata": {
        "id": "SRCxrG3b1s9G"
      },
      "source": [
        "# This Group: Theo, Haeryn, Ellie, and Kaylee"
      ]
    },
    {
      "cell_type": "markdown",
      "metadata": {
        "id": "CUBOMnHQ1s9H"
      },
      "source": [
        "## 3.3 Video 1 Hacks\n",
        "\n",
        "Show two examples and label which one is sequence, selection, iteration"
      ]
    },
    {
      "cell_type": "code",
      "execution_count": null,
      "metadata": {
        "vscode": {
          "languageId": "javascript"
        },
        "id": "Bq0pzMG31s9I",
        "outputId": "193009fd-e433-4a19-c318-321c0e8cd8ec"
      },
      "outputs": [
        {
          "name": "stdout",
          "output_type": "stream",
          "text": [
            "2\n",
            "[0, 2, 4, 6, 8, 10]\n",
            "[1, 3, 5, 7, 9]\n"
          ]
        }
      ],
      "source": [
        "numbers = [0,1,2,3,4,5,6,7,8,9,10]\n",
        "evens = []\n",
        "odds = []\n",
        "\n",
        "for i in numbers:\n",
        "    if (numbers[i] % 2 == 0):\n",
        "        evens.append(numbers[i])\n",
        "\n",
        "for i in numbers:\n",
        "    if (numbers[i] % 2 == 1):\n",
        "        odds.append(numbers[i])\n",
        "\n",
        "print(numbers[2])\n",
        "print(evens)\n",
        "print(odds)"
      ]
    },
    {
      "cell_type": "markdown",
      "metadata": {
        "id": "egyx5q5o1s9K"
      },
      "source": [
        "## Explanation\n",
        "What is happening in this code is that print(numbers[2]) is printing the numbers list but only the item with the value of 2, so it will output 2. Printing evens is making a math function and then if the remainder is 0 it will make a new list. Printing odds is making a math function and them if the remainder of that when divided by 2 is 1, then it makes a new list with odd numbers from the original list"
      ]
    },
    {
      "cell_type": "markdown",
      "metadata": {
        "id": "0iJEBUfs1s9L"
      },
      "source": [
        "### Answers 1\n",
        "All the steps combined are sequencing\n",
        "\n",
        "The step \"for i in numbers:\" is iteration because they go through all the numbers.\n",
        "\n",
        "\"if (numbers[i] % 2 == 0)\" is selection because they sort each number to find the even ones."
      ]
    },
    {
      "cell_type": "code",
      "execution_count": null,
      "metadata": {
        "vscode": {
          "languageId": "javascript"
        },
        "id": "GLFC60-h1s9M",
        "outputId": "66f3fb40-97a5-436a-ad80-fc64123b7b6b"
      },
      "outputs": [
        {
          "name": "stdout",
          "output_type": "stream",
          "text": [
            "*\n",
            "**\n",
            "***\n",
            "****\n",
            "*****\n"
          ]
        }
      ],
      "source": [
        "i = 1\n",
        "starString = \"*\"\n",
        "while i <= 5:\n",
        "  j = 1\n",
        "  while j <= i:\n",
        "    print (\"*\", end= \"\")\n",
        "    j += 1\n",
        "  print ()\n",
        "  i += 1"
      ]
    },
    {
      "cell_type": "markdown",
      "metadata": {
        "id": "JPAHyGeo1s9N"
      },
      "source": [
        "## Explanation\n",
        "i is set to 1 and then another variable is set to a star. Then another variable is j which is also set to 1. The function keeps repeating itself over and over until i is not equal to or less than 5."
      ]
    },
    {
      "cell_type": "markdown",
      "metadata": {
        "id": "1FF77nMA1s9O"
      },
      "source": [
        "### Answers 2\n",
        "\n",
        "All the steps are a sequence\n",
        "\n",
        "\"While i <= 5:\" is iteration because they repeat until i reaches 5\n",
        "\n",
        "\"While j <= i:\" is selection because this is where they decide what j is"
      ]
    },
    {
      "cell_type": "markdown",
      "metadata": {
        "id": "Y4dZ0Dts1s9O"
      },
      "source": [
        "## 3.3 Video 2 Hacks\n",
        "### Practice Problems \n",
        "1. given the following code segment below:\n",
        "\n",
        "a ⟵ 7\n",
        "\n",
        "b ⟵ 1\n",
        "\n",
        "c ⟵ 3\n",
        "\n",
        "d ⟵ 4  \n",
        "\n",
        "a ⟵ b\n",
        "\n",
        "b ⟵ c + d\n",
        "\n",
        "d ⟵ b \n",
        "\n",
        "find the value for a, b, c, d: 7\n",
        "\n",
        "My Answer:\n",
        "a: 1\n",
        "b: 7\n",
        "c: 3\n",
        "d: 7\n",
        "\n",
        "### Explanation\n",
        "First a is set equal to b so a is 1. then b becomes the sum of c and d so b becomes 7. Then d is set equal to b so then d becomes 7 since b was redefined in the last line of code. c is never redefined so it stays the same.\n",
        "\n",
        "<details closed>\n",
        "    <summary>Click for the answer!</summary>\n",
        "       a = 1, b = 7, c = 3, d = 7\n",
        "    </details>\n",
        "\n",
        "2. consider the following code segment:\n",
        "\n",
        "hot ⟵ true\n",
        "\n",
        "cold ⟵ false\n",
        "\n",
        "cold ⟵ hot \n",
        "\n",
        "hot ⟵ cold\n",
        "\n",
        "what are the values of hot and cold after executing the code segment? \n",
        "1. the value of hot is true, the value of cold is true \n",
        "2. the value of hot is false, the value of cold is true\n",
        "3. the value of hot is true, the value of cold is false\n",
        "4. the value of hot is false, the value of cold is false\n",
        "\n",
        "My Answer: 1\n",
        "\n",
        "### Explanation\n",
        "This is because cold becomes set equal to hot, so we know both variables are equal to true. Since the variable cold has been redefined, when hot is set equal to cold, so both variables are equal to hot, so it is option 1.\n",
        "\n",
        "<details closed>\n",
        "    <summary>Click for the answer!</summary>\n",
        "        1. the value of hot is true, the value of cold is true \n",
        "    </details>\n",
        "\n",
        "3. Make TWO of your own code segments that contain at least 5 defined variables, then provide the answer and EXPLAIN why your answer is correct."
      ]
    },
    {
      "cell_type": "markdown",
      "metadata": {
        "id": "IMbPsfvP1s9P"
      },
      "source": [
        "Given the following code segment below:\n",
        "\n",
        "w ⟵ boat\n",
        "\n",
        "a ⟵ walk\n",
        "\n",
        "t ⟵ sea\n",
        "\n",
        "e ⟵ separate  \n",
        "\n",
        "r ⟵ cane\n",
        "\n",
        "w ⟵ t\n",
        "r ⟵ e\n",
        "t ⟵ r\n",
        "\n",
        "What is the value of w?\n",
        "\n",
        "<details closed>\n",
        "    <summary>Click for the answer!</summary>\n",
        "        sea\n",
        "        This is the answer because the value of w is only changing once, and that it is becoming equal to the value of t, which is sea. \n",
        "    </details>\n",
        "\n"
      ]
    },
    {
      "cell_type": "code",
      "execution_count": null,
      "metadata": {
        "vscode": {
          "languageId": "javascript"
        },
        "id": "6E8cMmU_1s9Q",
        "outputId": "26004a64-2281-43ee-f26d-51a3c3034487"
      },
      "outputs": [
        {
          "name": "stdout",
          "output_type": "stream",
          "text": [
            "cake\n"
          ]
        }
      ],
      "source": [
        "a = \"apple\"\n",
        "b = \"ball\"\n",
        "c = \"cake\"\n",
        "d = \"dessert\"\n",
        "e = \"elephant\"\n",
        " \n",
        "a=c\n",
        "c=a\n",
        "b=d\n",
        "d=a\n",
        "e=b\n",
        "\n",
        "print(a)"
      ]
    },
    {
      "cell_type": "markdown",
      "metadata": {
        "id": "NXVCkl231s9Q"
      },
      "source": [
        "<details closed>\n",
        "    <summary>Click for the answer!</summary>\n",
        "        cake because a is only being changed once and it is being set to c which is cake. The output would be cake because a is only redefined once when it is set equal to c. That means that a is set to cake and when a is printed it will output cake.\n",
        "    </details>"
      ]
    },
    {
      "cell_type": "markdown",
      "metadata": {
        "id": "rRUxE7Ht1s9R"
      },
      "source": [
        "4. Sequencing"
      ]
    },
    {
      "cell_type": "code",
      "execution_count": null,
      "metadata": {
        "vscode": {
          "languageId": "javascript"
        },
        "id": "RuPMzb1-1s9R"
      },
      "outputs": [],
      "source": [
        "num1 = 3\n",
        "num2 = 1\n",
        "num3 = 5\n",
        "num1 = num2 + num3      \n",
        "num2 = num1 + num3      # num2 is now the new num1 + num3"
      ]
    },
    {
      "cell_type": "markdown",
      "metadata": {
        "id": "IgHO41gH1s9S"
      },
      "source": [
        "What is the value of num1 and num2?\n",
        "\n",
        "My Answers:\n",
        "num1 = 6\n",
        "num2 = 11\n",
        "\n",
        "<details closed>\n",
        "    <summary>Click for the answer!</summary>\n",
        "        num1 = 6, num2 = 11. This is because num1 is redefined as the sum of num2 and num3, so then it becomes 5+1 so num1 is equal to 6. num2 is defined as the sum of num1 and num3, but since num1 was redefined we have to use the new value. Then it will be 6+5, which is 11.\n",
        "    </details>\n",
        "Score: 1/1"
      ]
    },
    {
      "cell_type": "markdown",
      "metadata": {
        "id": "xTcI0_QB1s9S"
      },
      "source": [
        "## 3.4 Video 1 Hacks\n",
        "\n",
        "### String Homework\n",
        "---------------------------------------------------------------\n",
        "\n",
        "\n",
        "- Test 1\n",
        "\n",
        "    firstName <- \"Bob\"\n",
        "    lastName <- \"Smith\"\n",
        "    var <- substring(firstName, 1, 1) --> B\n",
        "    name <- concat(lastName, var) --> SmithB\n",
        "    email <- concat(name, \"@gmail.com\") --> SmithB@gmail.com\n",
        "    DISPLAY(email)\n",
        "\n",
        "- What would the result be?\n",
        "\n",
        "## Explanation\n",
        "You can see the output of each one after the line of code. When var is assigned the output will be just B because it is taking the substring of \"Bob\". name is assigned lastName and var so it is combining them to make SmithB. Then email is combining name and @gmail.com so the final output SmithB@gmail.com\n",
        "\n",
        "My Answer: SmithB@gmail.com\n",
        "\n",
        " Hint:\n",
        " var = \"B\"\n",
        " name = \"SmithB\"\n",
        "\n",
        "---------------------------------------------------------------\n",
        "- Test 2\n",
        "\n",
        "    word1 <- \"computer\"\n",
        "    word2 <- \"textbooks\"\n",
        "    length1 <- len(word1)/2 --> 4\n",
        "    length2 <- len(word2)/3 --> 3\n",
        "    first <- substring(word1, 2, length1) --> ompu\n",
        "    second <- substring(word2, length2+3, length2) --> ook\n",
        "    newWord <- concat(first, second) --> ompuook\n",
        "    DISPLAY(newWord)\n",
        "---------------------------------------------------------------\n",
        "My Answer: ompuook\n",
        "\n",
        "### Explanation\n",
        "You can see the outputs after each line of code. Length 1 is taking the length of word 1 which is 8 and dividing it by 2 to get 4. Length 2 is taking the length of word 2 and dividing it by 3 to get 3. The variable first is taking the 2nd letter to the 4th letter of word1 so the output will be ompu. The variable second substring too word2 and then found the length and added 3 to it to get 6 and get the other character of 3. We have to reverse it to get [3,6] so the output will be ook. All this is assigned to another variable called newWord and then printed to get ompuook.\n",
        "\n",
        "#### Answers\n",
        " Test 1\n",
        "- Result: \"SmithB@gmail.com\"\n",
        "\n",
        " Test 2\n",
        "- Result: \"ompuook\"\n",
        "\n",
        "\n"
      ]
    }
  ],
  "metadata": {
    "kernelspec": {
      "display_name": "Python 3.8.10 64-bit",
      "language": "python",
      "name": "python3"
    },
    "language_info": {
      "codemirror_mode": {
        "name": "ipython",
        "version": 3
      },
      "file_extension": ".py",
      "mimetype": "text/x-python",
      "name": "python",
      "nbconvert_exporter": "python",
      "pygments_lexer": "ipython3",
      "version": "3.8.10"
    },
    "orig_nbformat": 4,
    "vscode": {
      "interpreter": {
        "hash": "916dbcbb3f70747c44a77c7bcd40155683ae19c65e1c03b4aa3499c5328201f1"
      }
    },
    "colab": {
      "provenance": []
    }
  },
  "nbformat": 4,
  "nbformat_minor": 0
}