{
  "cells": [
    {
      "cell_type": "markdown",
      "metadata": {
        "id": "39XqK9o0vD-k"
      },
      "source": [
        "# Week 13 Javascript Kernel Test\n",
        "> JS Kernel Test (Week 13)\n",
        "\n",
        "- toc: true \n",
        "- badges: true\n",
        "- comments: true\n",
        "- permalink: /week13/jsKernelTestwk13\n",
        "- categories: [week 13]"
      ]
    },
    {
      "cell_type": "code",
      "execution_count": null,
      "metadata": {
        "id": "l8BM85VZvD_Q",
        "outputId": "60733668-5299-4384-88bf-9a3b8f91b5e7"
      },
      "outputs": [
        {
          "name": "stdout",
          "output_type": "stream",
          "text": [
            "If you see this, my Javascript Kernel is working!\n"
          ]
        },
        {
          "data": {
            "text/plain": [
              "undefined"
            ]
          },
          "execution_count": 1,
          "metadata": {},
          "output_type": "execute_result"
        }
      ],
      "source": [
        "const message = \"If you see this, my Javascript Kernel is working!\";\n",
        "console.log(message);"
      ]
    }
  ],
  "metadata": {
    "kernelspec": {
      "display_name": "JavaScript (Node.js)",
      "language": "javascript",
      "name": "javascript"
    },
    "language_info": {
      "file_extension": ".js",
      "mimetype": "application/javascript",
      "name": "javascript",
      "version": "6.11.2"
    },
    "orig_nbformat": 4,
    "colab": {
      "provenance": []
    }
  },
  "nbformat": 4,
  "nbformat_minor": 0
}
