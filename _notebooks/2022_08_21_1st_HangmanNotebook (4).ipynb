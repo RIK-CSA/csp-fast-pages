{
  "cells": [
    {
      "cell_type": "markdown",
      "source": [
        "# APWH Game Notebook\n",
        "> In this notebook, I'll create a APWH Study Game using Python\n",
        "\n",
        "- toc: true \n",
        "- badges: true\n",
        "- comments: true\n",
        "- categories: [jupyter]"
      ],
      "metadata": {
        "id": "dAd1Oo8ggRsL",
        "cell_id": "81012c8a-ca93-4c29-80e4-6937c3e3a6f4",
        "deepnote_cell_type": "markdown",
        "deepnote_cell_height": 246.984375
      }
    },
    {
      "cell_type": "markdown",
      "source": [
        "# Method\n",
        "\n",
        "N/A"
      ],
      "metadata": {
        "id": "crxcUxOggRsP",
        "cell_id": "00001-13141580-dc11-4810-974a-34bab0fd9609",
        "deepnote_cell_type": "markdown",
        "deepnote_cell_height": 120.390625
      }
    },
    {
      "cell_type": "code",
      "metadata": {
        "id": "5TlkTfEUgRsP",
        "outputId": "2fa98e98-e5b7-4947-cf38-1696ca1bdcb6",
        "colab": {
          "base_uri": "https://localhost:8080/"
        },
        "cell_id": "00002-fc46d1bb-46d6-493c-9ea4-30ff280aebaf",
        "deepnote_to_be_reexecuted": false,
        "source_hash": "cf04a8b0",
        "execution_start": 1661569856612,
        "execution_millis": 24073,
        "deepnote_cell_type": "code",
        "deepnote_cell_height": 546
      },
      "source": [
        "import random\n",
        "import time\n",
        "score=0\n",
        "answers=[\"beijing\",\"india\",\"christianity\",\"brahmin\", \"mayan\"]\n",
        "statements=[\"Capital of China \",\"Country where Hinduism was founded \",\"Religion founded by Jesus \",\"Upper caste of Hindus \",\"Civilization of Central America \"]\n",
        "def question(statement,answer):\n",
        "  time.sleep(1)\n",
        "  msg=input(statement)\n",
        "  if(msg==answer):\n",
        "    print(\"Correct!\")\n",
        "    return 1\n",
        "  else:\n",
        "    print(\"Incorrect. The correct answer is\",answer)\n",
        "    return 0\n",
        "print(\"Welcome to APWH Practice Game! Please type all answers in lowercase and singular\")\n",
        "for i in range(len(answers)):\n",
        "  score+=question(statements[i],answers[i])\n",
        "print(\"You got\",score,\"out of\",len(answers),\"questions correct\")"
      ],
      "outputs": [
        {
          "name": "stdout",
          "text": "Welcome to APWH Practice Game! Please type all answers in lowercase and singular\n",
          "output_type": "stream"
        }
      ],
      "execution_count": null
    }
  ],
  "nbformat": 4,
  "nbformat_minor": 0,
  "metadata": {
    "kernelspec": {
      "display_name": "Python 3.9.12 ('base')",
      "language": "python",
      "name": "python3"
    },
    "language_info": {
      "codemirror_mode": {
        "name": "ipython",
        "version": 3
      },
      "file_extension": ".py",
      "mimetype": "text/x-python",
      "name": "python",
      "nbconvert_exporter": "python",
      "pygments_lexer": "ipython3",
      "version": "3.9.12"
    },
    "orig_nbformat": 4,
    "vscode": {
      "interpreter": {
        "hash": "36ac99974a67ba75ab4929ee9ef936c7cb2a4690d97ade6d3ca6bd9cb1ab7116"
      }
    },
    "colab": {
      "provenance": [],
      "name": "2022-08-21-1st_HangmanNotebook.ipynb"
    },
    "deepnote_notebook_id": "17f979ca-bfa8-4ea4-b03b-1aba5b2a290e",
    "deepnote": {},
    "deepnote_execution_queue": [
      {
        "cellId": "00002-fc46d1bb-46d6-493c-9ea4-30ff280aebaf",
        "sessionId": "55c30525-d507-4f27-9bc5-6827db544f69",
        "msgId": "b3659f6c-f342-48c5-8c64-151a7425bd93"
      }
    ],
    "deepnote_persisted_session": {
      "filename": "session_dump_17f979ca-bfa8-4ea4-b03b-1aba5b2a290e.pkl",
      "createdAt": "2022-08-27T02:31:38.566Z"
    }
  }
}