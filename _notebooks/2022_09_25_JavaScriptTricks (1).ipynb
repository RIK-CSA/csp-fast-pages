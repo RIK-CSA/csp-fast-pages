{
  "cells": [
    {
      "cell_type": "markdown",
      "metadata": {
        "id": "kt3ELsYZbvgt"
      },
      "source": [
        "# JavaScript Application\n",
        "> Application of Variables, Functions, Arrays, IJavaScript HTML, using Jupyter Notebooks\n",
        "\n",
        "- toc: true\n",
        "- comments: true\n",
        "- categories: [APCSP]"
      ]
    },
    {
      "cell_type": "markdown",
      "metadata": {
        "id": "FGkQTDnzbvgw"
      },
      "source": [
        "The first trick is the tunary operator."
      ]
    },
    {
      "cell_type": "code",
      "execution_count": null,
      "metadata": {
        "id": "hijfr7OGbvgx"
      },
      "outputs": [],
      "source": [
        "const age = 13\n",
        "\n",
        "age < 15 ? console.log(\"You're too young to be taking CSP\") : console.log(\"You're the right age to be taking CSP\")"
      ]
    },
    {
      "cell_type": "code",
      "execution_count": null,
      "metadata": {
        "id": "SmXlT8Fvbvg0"
      },
      "outputs": [],
      "source": [
        "const age = 55\n",
        "\n",
        "age > 50\n",
        "    ? age > 70 ? console.log(\"You are really old\")\n",
        "    : console.log(\"You are between 30 and 50\")\n",
        "  : console.log(\"You are below 30\");"
      ]
    },
    {
      "cell_type": "markdown",
      "metadata": {
        "id": "GmnELHFhbvg0"
      },
      "source": [
        "The second trick is number to string."
      ]
    },
    {
      "cell_type": "code",
      "execution_count": null,
      "metadata": {
        "id": "FXodXxrwbvg1"
      },
      "outputs": [],
      "source": [
        "const age = 20;\n",
        "\n",
        "console.log(age);\n",
        "\n",
        "console.log(typeof age);"
      ]
    },
    {
      "cell_type": "markdown",
      "metadata": {
        "id": "JkNPc41Cbvg2"
      },
      "source": [
        "The third trick is fill arrays."
      ]
    },
    {
      "cell_type": "code",
      "execution_count": null,
      "metadata": {
        "id": "6VnHHPV3bvg2"
      },
      "outputs": [],
      "source": [
        "const users = Array(5).fill(\"\");\n",
        "\n",
        "console.log(users);\n"
      ]
    },
    {
      "cell_type": "markdown",
      "metadata": {
        "id": "nLfQB0xGbvg3"
      },
      "source": [
        "The fourth trick is unique arrays."
      ]
    },
    {
      "cell_type": "code",
      "execution_count": null,
      "metadata": {
        "id": "TGaCZ6h8bvg3"
      },
      "outputs": [],
      "source": [
        "const users = [\n",
        "    \"Yuri\", \n",
        "    \"Harsha\", \n",
        "    \"Raunak\"\n",
        "]\n",
        "\n",
        "const unique = Array.from(new Set(users));\n",
        "\n",
        "console.log(unique);"
      ]
    },
    {
      "cell_type": "markdown",
      "metadata": {
        "id": "QFYBuwzWbvg4"
      },
      "source": [
        "The 5th trick is Dynamic Objects."
      ]
    },
    {
      "cell_type": "code",
      "execution_count": null,
      "metadata": {
        "id": "vsxL6Zzibvg4"
      },
      "outputs": [],
      "source": [
        "const dynamic = \"rest\";\n",
        "\n",
        "const users = {\n",
        "    name: \"Raunak\", \n",
        "    email: \"raunakmondal07@gmail.com\", \n",
        "    [dynamic]: \"music\"\n",
        "};\n",
        "\n",
        "\n",
        "console.log(users);"
      ]
    },
    {
      "cell_type": "markdown",
      "metadata": {
        "id": "MOO0o2yabvg5"
      },
      "source": [
        "The sixth trick is slicing arrays."
      ]
    },
    {
      "cell_type": "code",
      "execution_count": null,
      "metadata": {
        "id": "uaXxia9tbvg5"
      },
      "outputs": [],
      "source": [
        "const users = [1,2,3,4,5,6,7];\n",
        "users.length = 3;\n",
        "\n",
        "console.log(users);"
      ]
    },
    {
      "cell_type": "markdown",
      "metadata": {
        "id": "30dx7ZbNbvg5"
      },
      "source": [
        "The seventh trick is slicing arrays end."
      ]
    },
    {
      "cell_type": "code",
      "execution_count": null,
      "metadata": {
        "id": "Yobk9MGkbvg6"
      },
      "outputs": [],
      "source": [
        "const users = [1,2,3,4,5,6,7];\n",
        "\n",
        "console.log(users.slice(-3));\n"
      ]
    }
  ],
  "metadata": {
    "kernelspec": {
      "display_name": "JavaScript (Node.js)",
      "language": "javascript",
      "name": "javascript"
    },
    "language_info": {
      "file_extension": ".js",
      "mimetype": "application/javascript",
      "name": "javascript",
      "version": "6.11.2"
    },
    "orig_nbformat": 4,
    "vscode": {
      "interpreter": {
        "hash": "916dbcbb3f70747c44a77c7bcd40155683ae19c65e1c03b4aa3499c5328201f1"
      }
    },
    "colab": {
      "provenance": []
    }
  },
  "nbformat": 4,
  "nbformat_minor": 0
}