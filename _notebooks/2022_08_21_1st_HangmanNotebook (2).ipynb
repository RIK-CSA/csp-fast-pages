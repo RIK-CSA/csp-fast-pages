{
 "cells": [
  {
   "cell_type": "markdown",
   "source": "# Hangman Jupyter Notebook\n> In this notebook, I'll create a Hangman game from Python\n\n- toc: true \n- badges: true\n- comments: true\n- categories: [jupyter]",
   "metadata": {
    "id": "dAd1Oo8ggRsL",
    "cell_id": "81012c8a-ca93-4c29-80e4-6937c3e3a6f4",
    "deepnote_cell_type": "markdown",
    "deepnote_cell_height": 246.984375
   }
  },
  {
   "cell_type": "markdown",
   "source": "# Method\n\nN/A",
   "metadata": {
    "id": "crxcUxOggRsP",
    "cell_id": "00001-13141580-dc11-4810-974a-34bab0fd9609",
    "deepnote_cell_type": "markdown",
    "deepnote_cell_height": 120.390625
   }
  },
  {
   "cell_type": "code",
   "source": "import random\nimport time\nscore=0\nanswers=[\"beijing\",\"india\",\"christianity\",\"brahmin\", \"mayan\"]\nstatements=[\"Capital of China \",\"Country where Hinduism was founded \",\"Religion founded by Jesus \",\"Upper caste of Hindus \",\"Civilization of Central America \"]\ndef question(statement,answer):\n  time.sleep(1)\n  msg=input(statement)\n  if(msg==answer):\n    print(\"Correct!\")\n    return 1\n  else:\n    print(\"Incorrect. The correct answer is\",answer)\n    return 0\nprint(\"Welcome to APWH Practice Game! Please type all answers in lowercase and singular\")\nfor i in range(len(answers)):\n  score+=question(statements[i],answers[i])\nprint(\"You got\",score,\"out of\",len(answers),\"questions correct\")",
   "metadata": {
    "id": "5TlkTfEUgRsP",
    "outputId": "2fa98e98-e5b7-4947-cf38-1696ca1bdcb6",
    "colab": {
     "base_uri": "https://localhost:8080/"
    },
    "cell_id": "00002-fc46d1bb-46d6-493c-9ea4-30ff280aebaf",
    "deepnote_to_be_reexecuted": false,
    "source_hash": "cf04a8b0",
    "execution_start": 1661566036556,
    "execution_millis": 915283,
    "deepnote_cell_type": "code",
    "deepnote_cell_height": 633.75
   },
   "execution_count": null,
   "outputs": [
    {
     "name": "stdout",
     "text": "Welcome to APWH Practice Game! Please type all answers in lowercase and singular\n",
     "output_type": "stream"
    }
   ]
  },
  {
   "cell_type": "markdown",
   "source": "<a style='text-decoration:none;line-height:16px;display:flex;color:#5B5B62;padding:10px;justify-content:end;' href='https://deepnote.com?utm_source=created-in-deepnote-cell&projectId=7eb76c71-9c62-44f2-89e8-96b6bb860915' target=\"_blank\">\n<img alt='Created in deepnote.com' style='display:inline;max-height:16px;margin:0px;margin-right:7.5px;' src='data:image/svg+xml;base64,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' > </img>\nCreated in <span style='font-weight:600;margin-left:4px;'>Deepnote</span></a>",
   "metadata": {
    "tags": [],
    "created_in_deepnote_cell": true,
    "deepnote_cell_type": "markdown"
   }
  }
 ],
 "nbformat": 4,
 "nbformat_minor": 0,
 "metadata": {
  "kernelspec": {
   "display_name": "Python 3.9.12 ('base')",
   "language": "python",
   "name": "python3"
  },
  "language_info": {
   "codemirror_mode": {
    "name": "ipython",
    "version": 3
   },
   "file_extension": ".py",
   "mimetype": "text/x-python",
   "name": "python",
   "nbconvert_exporter": "python",
   "pygments_lexer": "ipython3",
   "version": "3.9.12"
  },
  "orig_nbformat": 4,
  "vscode": {
   "interpreter": {
    "hash": "36ac99974a67ba75ab4929ee9ef936c7cb2a4690d97ade6d3ca6bd9cb1ab7116"
   }
  },
  "colab": {
   "provenance": [],
   "name": "2022-08-21-1st_HangmanNotebook.ipynb"
  },
  "deepnote_notebook_id": "17f979ca-bfa8-4ea4-b03b-1aba5b2a290e",
  "deepnote": {},
  "deepnote_execution_queue": [
   {
    "cellId": "00002-fc46d1bb-46d6-493c-9ea4-30ff280aebaf",
    "sessionId": "629a7f49-b963-44c8-8dcc-8656453498a5",
    "msgId": "38325f74-6406-4580-a603-40956643499c"
   }
  ]
 }
}