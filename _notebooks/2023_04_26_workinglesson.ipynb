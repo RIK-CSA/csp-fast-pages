{
  "cells": [
    {
      "cell_type": "markdown",
      "metadata": {
        "id": "JQ8zJn8Bw5l7"
      },
      "source": [
        "# Big Idea 3, Simulations and SQLite\n",
        "> Official lesson by Drew, Vivian, Aliya, Sri and Sreeja.\n",
        "- toc: true\n",
        "- title: Big Idea 3, Simulations and SQLite Lesson\n",
        "- permalink: /thebiglesson/"
      ]
    },
    {
      "cell_type": "markdown",
      "metadata": {
        "id": "ZQmKPAv5w5l9"
      },
      "source": [
        "WGET LINK: https://raw.githubusercontent.com/SRIHITAKOTT1213/DVASS/master/_notebooks/2023-04-25-studenttemplate.ipynb"
      ]
    },
    {
      "cell_type": "markdown",
      "metadata": {
        "id": "r19GXlwPw5l-"
      },
      "source": [
        "# Review Topics\n",
        "\n",
        "All of the topics below are things that have been heavily covered and used throughout the class. We will mostly be focusing on more complicated uses and mechanics of these topics.\n",
        "\n",
        "## Lists\n",
        "- What are Lists?\n",
        "    - Lists are an ordered sequence of elements, where each element is a variable\n",
        "    - Unlike dictionaries, lists' keys are all integers that describe the order of the list\n",
        "\n",
        "Some examples of lists:\n",
        "-  Playlist of songs\n",
        "-  names of students in a class\n",
        "-  contacts on your phone\n",
        "\n",
        "- Each element of a string is referenced by an index (which is a number) and they generally start 0 but for the AP Exam it starts at 1.\n",
        "    - AP Exam: 1, 2, 3, 4, etc.\n",
        "    - Python:  0, 1, 2, 3, etc.\n",
        "\n",
        "**How do lists Manage Complexity of a program?**\n",
        "- We may not need as many variables. For example:\n",
        "    - One Variable that holds all students would be better than having a variable for EACH student\n",
        "    - There can also be a list of test scores so if they need to be curved then the same calculation can be applied to the list (that has all the students) instead of doing the calculations one at a time\n",
        "\n",
        "Answer the following questions about the code block below:\n",
        "\n",
        "- Why do you think lists are helpful? What word does College Board like to use to describe the function of lists?\n",
        "\n",
        "Lists are helpful in programming because they allow us to store and manipulate a collection of items or values. Lists enable us to perform operations such as adding or removing elements, accessing specific elements by index, and iterating over all elements. The College Board likes to use the term \"abstraction\" to describe the function of lists in programming. Lists abstract away the details of how the individual elements are stored in memory, allowing programmers to work with collections of elements as a single entity. This makes it easier to write and understand code that deals with multiple values at once, without having to worry about the low-level details of how they are represented in the computer's memory."
      ]
    },
    {
      "cell_type": "code",
      "execution_count": 1,
      "metadata": {
        "id": "VEbpUSE-w5l-",
        "outputId": "fe238716-2de9-49b2-800a-16d511978e96",
        "colab": {
          "base_uri": "https://localhost:8080/"
        }
      },
      "outputs": [
        {
          "output_type": "stream",
          "name": "stdout",
          "text": [
            "name Sri Kotturi <class 'str'>\n",
            "age 16 <class 'int'>\n",
            "score 90.0 <class 'float'>\n",
            "\n",
            "langs ['Python', 'JavaScript', 'Java', 'Bash', 'html'] <class 'list'>\n",
            "- langs[2] Java <class 'str'>\n",
            "\n",
            "person {'name': 'Sri Kotturi', 'age': 16, 'score': 90.0, 'langs': ['Python', 'JavaScript', 'Java', 'Bash', 'html']} <class 'dict'>\n",
            "- person[\"name\"] Sri Kotturi <class 'str'>\n"
          ]
        }
      ],
      "source": [
        "# Sample of Python Variables\n",
        "\n",
        "# variable of type string\n",
        "name = \"Sri Kotturi\"\n",
        "print(\"name\", name, type(name))\n",
        "\n",
        "# variable of type integer\n",
        "age = 16\n",
        "print(\"age\", age, type(age))\n",
        "\n",
        "# variable of type float\n",
        "score = 90.0\n",
        "print(\"score\", score, type(score))\n",
        "\n",
        "print()\n",
        "\n",
        "# variable of type list (many values in one variable)\n",
        "langs = [\"Python\", \"JavaScript\", \"Java\", \"Bash\", \"html\"]\n",
        "print(\"langs\", langs, type(langs))\n",
        "print(\"- langs[2]\", langs[2], type(langs[2]))\n",
        "\n",
        "print()\n",
        "\n",
        "# variable of type dictionary (a group of keys and values)\n",
        "person = {\n",
        "    \"name\": name,\n",
        "    \"age\": age,\n",
        "    \"score\": score,\n",
        "    \"langs\": langs\n",
        "}\n",
        "print(\"person\", person, type(person))\n",
        "print('- person[\"name\"]', person[\"name\"], type(person[\"name\"]))"
      ]
    },
    {
      "cell_type": "markdown",
      "metadata": {
        "id": "QS48BrYAw5l_"
      },
      "source": [
        "## Mathematical Expressions\n",
        "\n",
        "What is the output of the cell below? What Mathematical Expressions do you see being used? (List them below.)\n",
        "\n",
        "- 10\n",
        "- addition and division"
      ]
    },
    {
      "cell_type": "code",
      "execution_count": 2,
      "metadata": {
        "id": "hAEzMYp8w5l_",
        "outputId": "3dcabdf3-ef9d-4b1d-f533-41281f55762a",
        "colab": {
          "base_uri": "https://localhost:8080/"
        }
      },
      "outputs": [
        {
          "output_type": "stream",
          "name": "stdout",
          "text": [
            "10\n"
          ]
        }
      ],
      "source": [
        "grade1 = 10\n",
        "grade2 =  grade1 \n",
        "\n",
        "average_grade = (grade1 + grade2) // 2 #what are these two slashes?\n",
        "\n",
        "print(average_grade)"
      ]
    },
    {
      "cell_type": "markdown",
      "metadata": {
        "id": "IAp3jMAEw5l_"
      },
      "source": [
        "What is the value of num1, num2, and num3? Explain how each number ended up what it was.\n",
        "\n",
        "- num1=4096 which is 4^6\n",
        "- num3=4096 remainder when divided by 5, which is 1\n",
        "- num2=(4096+1) divided by 9 = 455"
      ]
    },
    {
      "cell_type": "code",
      "execution_count": 3,
      "metadata": {
        "id": "4UfJQVjKw5mA",
        "outputId": "631a7cb2-7283-44c6-f065-a1f48575f141",
        "colab": {
          "base_uri": "https://localhost:8080/"
        }
      },
      "outputs": [
        {
          "output_type": "stream",
          "name": "stdout",
          "text": [
            "4096\n",
            "455\n",
            "1\n"
          ]
        }
      ],
      "source": [
        "num1 = 2\n",
        "num2 = 4\n",
        "num3 = 6\n",
        "num1 = num2 ** num3\n",
        "num3 = num1 % 5\n",
        "num2 = (num1 + num3) // 9\n",
        "\n",
        "print(num1)\n",
        "print(num2)\n",
        "print(num3)"
      ]
    },
    {
      "cell_type": "markdown",
      "metadata": {
        "id": "nyJxJlDcw5mA"
      },
      "source": [
        "# Selection\n",
        "Selection refers to the process of making decisions in a program based on certain conditions. It is normally done with conditional statements.\n",
        "\n",
        "## Conditionals\n",
        "What is a conditional?:\n",
        "- Statement that allows code to execute different instructions if a certain condition is true or false\n",
        "- Allows program to make decisions based on data and input\n",
        "\n",
        "What are the main types of conditional statements?:\n",
        "- if\n",
        "- elif\n",
        "- else\n",
        "\n",
        "### If statements\n",
        "- The if statement is used to check if a certain condition is true. The condition can be any expression that evaulates to a boolean value, True or False. If the condition is True, then it executes a code block. \n",
        "- If (condition) then (consequence)\n",
        "- Example:"
      ]
    },
    {
      "cell_type": "code",
      "execution_count": 5,
      "metadata": {
        "id": "4xHYNw1Zw5mA",
        "outputId": "fa93a230-b6e4-4b01-aa9b-18e92f183802",
        "colab": {
          "base_uri": "https://localhost:8080/"
        }
      },
      "outputs": [
        {
          "output_type": "stream",
          "name": "stdout",
          "text": [
            "Enter a number11\n",
            "x is positive\n"
          ]
        }
      ],
      "source": [
        "x = int(input(\"Enter a number\"))\n",
        "if x > 0: # if condition, check if this is true of false\n",
        "    print(\"x is positive\") # code that will execute if condition is met"
      ]
    },
    {
      "cell_type": "markdown",
      "metadata": {
        "id": "krn5Wul9w5mB"
      },
      "source": [
        "### Else\n",
        "- The else statemnt executes a code block when the if condition is False. \n",
        "- If (condition) then (consequence A), else (consequence B)\n",
        "\n",
        "### Elif\n",
        "- The elif statement can check multiple conditions in a sequence, and execute a certain block of code if any of the conditions are true. \n",
        "- If (condition) then (consequence A), elif (condition) then (consequence B), else (consequence C)\n",
        "\n",
        "\n",
        "- Example adding onto the code from before to take negative numbers and 0 into account"
      ]
    },
    {
      "cell_type": "code",
      "execution_count": 6,
      "metadata": {
        "id": "9DaOOfK2w5mB",
        "outputId": "5b557cff-ea75-474f-cd86-b09b8298f53b",
        "colab": {
          "base_uri": "https://localhost:8080/"
        }
      },
      "outputs": [
        {
          "output_type": "stream",
          "name": "stdout",
          "text": [
            "Enter a number, x:8\n",
            "x is positive\n"
          ]
        }
      ],
      "source": [
        "x = int(input(\"Enter a number, x:\"))\n",
        "if x > 0: # if condition, check if this is true of false\n",
        "    print(\"x is positive\") # code that will execute if condition is met\n",
        "elif x < 0: # if previous condition not true... elif condition, check if this is true of false\n",
        "    print(\"x is negative\")# code that will execute if condition is met\n",
        "else: # everything else, in this case it is if x == 0 \n",
        "    print(\"x is zero\") # only executes if all previous conditions are not met"
      ]
    },
    {
      "cell_type": "markdown",
      "metadata": {
        "id": "WRt2fxkaw5mB"
      },
      "source": [
        "## Nested Conditionals\n",
        "What is a nested conditional?:\n",
        "- Conditional statement inside another conditional statement\n",
        "- Allows to check for more complex condition where one condition depends on another\n",
        "\n",
        "### Nested Conditional Statements\n",
        "- Example"
      ]
    },
    {
      "cell_type": "code",
      "execution_count": 8,
      "metadata": {
        "id": "n9cQCC25w5mB",
        "outputId": "d435d81c-3b67-44a9-c549-f078bb3e1711",
        "colab": {
          "base_uri": "https://localhost:8080/"
        }
      },
      "outputs": [
        {
          "output_type": "stream",
          "name": "stdout",
          "text": [
            "Enter a number, x:11\n",
            "x is odd\n"
          ]
        }
      ],
      "source": [
        "x = int(input(\"Enter a number, x:\"))\n",
        "if x % 2 == 0:\n",
        "    print(\"x is even divisible by 2\")\n",
        "    # only ever checks is x is divisble by 3 if x is even. nested conditional\n",
        "    if x % 3 == 0:\n",
        "        print(\"x is divisible by 3\")\n",
        "    else:\n",
        "        print(\"x is not divisible by 3\")\n",
        "else:\n",
        "    print(\"x is odd\")"
      ]
    },
    {
      "cell_type": "markdown",
      "metadata": {
        "id": "gPcZtbgvw5mB"
      },
      "source": [
        "## Indentation\n",
        "When using conditionals and nested conditionals in Python, it is important to pay attention to the level of indentation in the code. The code inside the if, elif, and else blocks must be indented so they are nested wihtin the outer statements. This way, Python knows which code belongs to which block. "
      ]
    },
    {
      "cell_type": "markdown",
      "metadata": {
        "id": "YO0evbAyw5mB"
      },
      "source": [
        "## Binary Search\n",
        "What is binary search and what is it used for?:\n",
        "- Searching algorithm\n",
        "- Find and select a specific element in a sorted list of elements\n",
        "\n",
        "How does binary search work?:\n",
        "- Repeatedly divides the search interval in half to find the middle element and compares the middle value to the target value, if not the same then it continues on to either the lower or upper half\n",
        "- Eliminate half of the remaining search interval elements each time\n",
        "- Efficient way to search for element in large dataset\n",
        "\n",
        "What is the time complexity and why?:\n",
        "- O(log(N))\n",
        "- The maximum number of iterations is the amount of times the list can be divided in half until it reaches 1 number\n",
        "- Dividing by 2, so it is log2(N), logarigthm of n base 2\n",
        "\n",
        "- You may recognize the example below from the binary lesson last Friday"
      ]
    },
    {
      "cell_type": "code",
      "execution_count": 9,
      "metadata": {
        "id": "ljpxIuIXw5mB",
        "outputId": "dab6f4be-1dc4-4211-851f-92120687611f",
        "colab": {
          "base_uri": "https://localhost:8080/"
        }
      },
      "outputs": [
        {
          "output_type": "stream",
          "name": "stdout",
          "text": [
            "Is your number 50?\n",
            "Enter 'higher', 'lower', or 'yes': lower\n",
            "Is your number 25?\n",
            "Enter 'higher', 'lower', or 'yes': lower\n",
            "Is your number 12?\n",
            "Enter 'higher', 'lower', or 'yes': lower\n",
            "Is your number 6?\n",
            "Enter 'higher', 'lower', or 'yes': lower\n",
            "Is your number 3?\n",
            "Enter 'higher', 'lower', or 'yes': lower\n",
            "Is your number 1?\n",
            "Enter 'higher', 'lower', or 'yes': lower\n",
            "Is your number 0?\n",
            "Enter 'higher', 'lower', or 'yes': lower\n",
            "Is your number 0?\n",
            "Enter 'higher', 'lower', or 'yes': yes\n",
            "I guessed your number 0!\n"
          ]
        }
      ],
      "source": [
        "import random\n",
        "\n",
        "def binary_search_game():\n",
        "    low = 1\n",
        "    high = 100\n",
        "    target = random.randint(low, high)\n",
        "\n",
        "    while True:\n",
        "        guess = (low + high) // 2\n",
        "        print(f\"Is your number {guess}?\")\n",
        "        response = input(\"Enter 'higher', 'lower', or 'yes': \")\n",
        "\n",
        "        # conditional statements to check target number and guess\n",
        "        if response == 'yes':\n",
        "            print(f\"I guessed your number {guess}!\")\n",
        "            break\n",
        "        elif response == 'higher':\n",
        "            low = guess + 1\n",
        "        elif response == 'lower':\n",
        "            high = guess - 1\n",
        "        else:\n",
        "            print(\"Invalid input, please enter 'higher', 'lower', or 'yes'.\")\n",
        "\n",
        "binary_search_game()"
      ]
    },
    {
      "cell_type": "markdown",
      "metadata": {
        "id": "YuwDpV9Rw5mC"
      },
      "source": [
        "## Quick Hack\n",
        "\n",
        "Write a program using conditionals and nested conditionals\n",
        "- Ideas: Quiz, game (rock paper scissors, guess number), etc"
      ]
    },
    {
      "cell_type": "code",
      "execution_count": null,
      "metadata": {
        "id": "AUEDtNHAw5mC"
      },
      "outputs": [],
      "source": [
        "# YOUR PROGRAM WITH CONDITIONALS AND NESTED CONDITIONALS\n",
        "import random\n",
        "\n",
        "choices = [\"rock\", \"paper\", \"scissors\"]\n",
        "\n",
        "print(\"Welcome to Rock, Paper, Scissors!\")\n",
        "play_again = \"yes\"\n",
        "\n",
        "while play_again.lower() == \"yes\":\n",
        "    \n",
        "    player_choice = input(\"Choose your weapon (rock, paper, or scissors): \").lower()\n",
        "\n",
        "  \n",
        "    computer_choice = random.choice(choices)\n",
        "\n",
        "    \n",
        "    if player_choice == computer_choice:\n",
        "      if True:\n",
        "        result = \"tie\"\n",
        "    elif (player_choice == \"rock\" and computer_choice == \"scissors\") or \\\n",
        "         (player_choice == \"paper\" and computer_choice == \"rock\") or \\\n",
        "         (player_choice == \"scissors\" and computer_choice == \"paper\"):\n",
        "        result = \"win\"\n",
        "    else:\n",
        "        result = \"lose\"\n",
        "\n",
        "  \n",
        "    print(f\"You chose {player_choice}. The computer chose {computer_choice}. You {result}!\")\n",
        "\n",
        "   \n",
        "    play_again = input(\"Do you want to play again? (yes or no): \")\n",
        "    \n",
        "print(\"Thanks for playing!\")\n"
      ]
    },
    {
      "cell_type": "markdown",
      "metadata": {
        "id": "kpnxACq9w5mC"
      },
      "source": [
        "# Introduction to Algorithms\n",
        "- an algorithm is a set of instructions that describes how to solve a problem or perform a specific task using a computer program. \n",
        "- It is a precise sequence of computational steps that take an input and produce an output\n",
        "\n",
        "## How do Algorithms relate to data structures?\n",
        "\n",
        "- Algorithms often rely on specific data structures to solve problems efficiently. \n",
        "- Sorting algorithms require a data structure such as an array or a linked list to store and manipulate data.\n",
        "- Searching algorithms such as binary search require data structures like arrays or trees to organize and search through data.\n",
        "\n",
        "## Important Terms\n",
        "\n",
        "**What is an algorithm?**\n",
        "- it is a finite set of instructions that accomplishes a specific task\n",
        "\n",
        "**Sequencing**\n",
        "- means that there is an order in which to do things\n",
        "\n",
        "**Selection**\n",
        "- Helps to choose two different outcomes based off of a decision that the programmer wants to make\n",
        "\n",
        "**Iteration**\n",
        "- Repeat something until the condition is met. (also referred to as repetition)\n",
        "\n",
        "## Calling and Developing Procedures\n",
        "- A procedure is a sequence of instructions that performs a specific task.\n",
        "- To call a procedure, you need to know its name and any arguments it requires.\n",
        "- When a procedure is called, the program jumps to its instruction and starts executing it.\n",
        "- The arguments passed to a procedure can be used within the procedure to perform tasks or calculations.\n",
        "- After the procedure has completed its task, it returns control back to the calling program."
      ]
    },
    {
      "cell_type": "code",
      "execution_count": 10,
      "metadata": {
        "id": "i89PdiKew5mC",
        "outputId": "8987f21b-0873-4583-a0b9-dc3fc285d293",
        "colab": {
          "base_uri": "https://localhost:8080/"
        }
      },
      "outputs": [
        {
          "output_type": "stream",
          "name": "stdout",
          "text": [
            "The sum of 5 and 7 is 12\n"
          ]
        }
      ],
      "source": [
        "# Define a procedure that takes two arguments and prints their sum\n",
        "def add_numbers(a, b):\n",
        "    sum = a + b\n",
        "    print(\"The sum of\", a, \"and\", b, \"is\", sum)\n",
        "\n",
        "# Call the procedure with arguments 5 and 7\n",
        "add_numbers(5, 7)"
      ]
    },
    {
      "cell_type": "markdown",
      "metadata": {
        "id": "v6GTqubcw5mC"
      },
      "source": [
        "- The result of the procedure can be stored in a variable, printed to the screen, or used in any other way that is required by the program.\n",
        "- Procedures can be defined within the same program or in external files, and can be reused across multiple parts of the program.\n",
        "- To avoid errors and improve code readability, it's important to define and call procedures with proper syntax and conventions that are appropriate for the programming language you're using."
      ]
    },
    {
      "cell_type": "code",
      "execution_count": 11,
      "metadata": {
        "id": "XR4HHzeBw5mC",
        "outputId": "113feff7-610e-4297-adbe-e9f33327f540",
        "colab": {
          "base_uri": "https://localhost:8080/"
        }
      },
      "outputs": [
        {
          "output_type": "stream",
          "name": "stdout",
          "text": [
            "The average of [10, 20, 30, 40, 50] is 30.0\n"
          ]
        }
      ],
      "source": [
        "def calculate_average(numbers):\n",
        "    total = sum(numbers)\n",
        "    count = len(numbers)\n",
        "    average = total / count\n",
        "    return average\n",
        "\n",
        "# Call the procedure with a list of numbers\n",
        "numbers_list = [10, 20, 30, 40, 50]\n",
        "result = calculate_average(numbers_list)\n",
        "\n",
        "# Display the result\n",
        "print(\"The average of\", numbers_list, \"is\", result)"
      ]
    },
    {
      "cell_type": "markdown",
      "metadata": {
        "id": "7xdAp64tw5mC"
      },
      "source": [
        "## Algorithmic Efficiency\n",
        "- Algorithmic efficiency refers to the amount of time and resources needed to execute an algorithm.\n",
        "- The efficiency of an algorithm can be measured in terms of its time complexity and space complexity.\n",
        "    - Time complexity refers to the amount of time required by an algorithm to complete its task as a function of its input size.\n",
        "    - Space complexity refers to the amount of memory required by an algorithm to complete its task as a function of its input size.\n",
        "    - can be analyzed using Big O notation, which provides an upper bound on the worst-case time and space complexity of the algorithm.\n",
        "\n",
        "What is the time complexity of the following code: \n",
        "    - O(N)\n",
        "    - O(N*log(N))\n",
        "    - O(N * Sqrt(N))\n",
        "    - O(N*N)\n",
        "\n",
        "\n",
        "O(NN) because it is iterating N times for N possibilites, which gives it a time complexity equivalent to NN"
      ]
    },
    {
      "cell_type": "code",
      "execution_count": null,
      "metadata": {
        "id": "lw2WOy7Aw5mC"
      },
      "outputs": [],
      "source": [
        "a = 0\n",
        "for i in range(N):\n",
        "  for j in reversed(range(i, N)):\n",
        "    a = a + i + j"
      ]
    },
    {
      "cell_type": "markdown",
      "metadata": {
        "id": "Ao7MkDIcw5mC"
      },
      "source": [
        "What will be the time complexity of the following code?\n",
        "\n",
        "- n\n",
        "- (n+1)\n",
        "- n(n-1)\n",
        "- n(n+1)\n",
        "\n",
        "n(n-1) because it is iterating n times for n-1 possibilities, which gives it a time complexity of n(n-1)"
      ]
    },
    {
      "cell_type": "code",
      "execution_count": null,
      "metadata": {
        "id": "oqohhk8bw5mC"
      },
      "outputs": [],
      "source": [
        "value = 0\n",
        "for i in range(n): #iterates \"n\" times, with \"i\" taking on values from 0 to n-1.\n",
        "  for j in range(i): # iterates \"i\" times, with \"j\" taking on values from 0 to i-1.\n",
        "    value=value+1"
      ]
    },
    {
      "cell_type": "markdown",
      "metadata": {
        "id": "bivUP8v4w5mC"
      },
      "source": [
        "- Efficiency can be improved by optimizing algorithms or by using more efficient data structures and algorithms.\n",
        "    - Some common techniques for improving efficiency include reducing the size of input data, caching results, and parallelizing tasks.\n",
        "    - Understanding algorithmic efficiency is important in software development, as it can impact the performance of applications and their ability to scale with larger data sets.\n",
        "\n",
        "# Iteration and Simulations\n",
        "\n",
        "Simulations are models of real-world phenomena or systems that use mathematical algorithms and computer programs simulate the real behavior and aspects of the subject being modeled.\n",
        "\n",
        "Simulations are most often used to model complex or time-consuming things that would be difficult to test in real life, such as modeling the spread of diseases in certain ecosystems or testing the functionality of a potential product before it is made.\n",
        "\n",
        "In this lesson, we will be looking at lists, iteration, and random values through the lens of simulations.\n",
        "\n",
        "Make sure to run the code segment in the student copy!\n",
        "\n",
        "## Review: Lists and Iteration\n",
        "\n",
        "Lists and iteration work hand-in-hand to efficiently process and/or modify multiple values at once. In a card game, for example, lists and iteration are used together frequently to make the game work correctly.\n",
        "\n",
        "### For Loops\n",
        "\n",
        "For loops are probably the most well-known type of iterative loop used in code. Most of us know about the `for variable in list` format.\n",
        "\n",
        "One helpful tool not a lot of people konw about is the `enumerate()` function. When used in conjunction with a for loop, you can always have access to the index and value of each selected list entry."
      ]
    },
    {
      "cell_type": "code",
      "execution_count": 13,
      "metadata": {
        "id": "7WkXx7sCw5mD",
        "outputId": "23f0efb8-36b7-4f37-9079-219168ba9001",
        "colab": {
          "base_uri": "https://localhost:8080/"
        }
      },
      "outputs": [
        {
          "output_type": "stream",
          "name": "stdout",
          "text": [
            "This entry's index is 0, but its value is 3.\n",
            "The difference between the value and the index is 3.\n",
            "This entry's index is 1, but its value is 5.\n",
            "The difference between the value and the index is 4.\n",
            "This entry's index is 2, but its value is 68.\n",
            "The difference between the value and the index is 66.\n",
            "This entry's index is 3, but its value is 203.\n",
            "The difference between the value and the index is 200.\n"
          ]
        }
      ],
      "source": [
        "numlist = [3, 5, 68, 203]\n",
        "\n",
        "for key, num in enumerate(numlist):\n",
        "    print(f\"This entry's index is {str(key)}, but its value is {str(num)}.\")\n",
        "    print(f\"The difference between the value and the index is {num - key}.\")"
      ]
    },
    {
      "cell_type": "markdown",
      "metadata": {
        "id": "7m0gbjG5w5mD"
      },
      "source": [
        "QUESTION: How is the `key, num in enumerate(list)` format similar to the format used when applying a `for` loop to a dictionary?\n",
        "\n",
        "#### List Comprehension\n",
        "\n",
        "You may also see `for` loops used within a list like below. We went over this in class fairly recently. In this case, it is used to show the cards in the hand of a player."
      ]
    },
    {
      "cell_type": "code",
      "execution_count": null,
      "metadata": {
        "id": "zSXm8PCZw5mD"
      },
      "outputs": [],
      "source": [
        "player_hand = [] # the player's hand is represented as a list\n",
        "# because lists are mutable (can change), they can be added to, like drawing a card\n",
        "\n",
        "# assume the deck below is a a deck of shuffled cards\n",
        "deck = [Card(\"Hearts\", 3), Card(\"Spades\", 12), Card(\"Diamonds\", 11)]\n",
        "def draw_card(hand, deck):\n",
        "    hand.append(deck.pop())\n",
        "\n",
        "#try it out\n",
        "draw_card(player_hand, deck)\n",
        "print([card.show() for card in player_hand])"
      ]
    },
    {
      "cell_type": "markdown",
      "metadata": {
        "id": "0BByl5rqw5mD"
      },
      "source": [
        "### Recursive Loops\n",
        "\n",
        "Recursive loops have you calling one function inside of another. If a function must make some change to a certain value multiple times, it is oftem most efficient to have a function call itself with slightly different arguments like the fibonacci sequence below."
      ]
    },
    {
      "cell_type": "code",
      "execution_count": 15,
      "metadata": {
        "id": "ItMRKVEkw5mD",
        "outputId": "111fe726-7551-42ca-b014-d68cafa043ce",
        "colab": {
          "base_uri": "https://localhost:8080/"
        }
      },
      "outputs": [
        {
          "output_type": "execute_result",
          "data": {
            "text/plain": [
              "5"
            ]
          },
          "metadata": {},
          "execution_count": 15
        }
      ],
      "source": [
        "def fibonacci(terms):\n",
        "    if terms <= 1:\n",
        "        return terms\n",
        "    return fibonacci(terms-1) + fibonacci(terms-2)\n",
        "\n",
        "fibonacci(5)"
      ]
    },
    {
      "cell_type": "markdown",
      "metadata": {
        "id": "yPDl6THiw5mD"
      },
      "source": [
        "#### Nesting Loops\n",
        "\n",
        "Nesting loops increases the time complexity of the program, but it can be used to do things like make a card deck (see below)."
      ]
    },
    {
      "cell_type": "code",
      "execution_count": null,
      "metadata": {
        "id": "bS4Zz1TFw5mD"
      },
      "outputs": [],
      "source": [
        "#the parameter is a list\n",
        "def build(deck):\n",
        "        for suit in [\"Spades\", \"Clubs\", \"Diamonds\", \"Hearts\"]:\n",
        "            for val in range(2, 15): #HINT: try replacing this function\n",
        "                deck.append(Card(suit, val))"
      ]
    },
    {
      "cell_type": "markdown",
      "metadata": {
        "id": "dRbYISchw5mD"
      },
      "source": [
        "### While Loops\n",
        "\n",
        "While loops aren't used in the program, but they offer a different way to repeat a set of instructions in a program. The procedure below the `while [condition]` line will occur until the condition is made not true.\n",
        "\n",
        "**Student Interation**: How could this `build` function be altered to function with a **while loop** within it?"
      ]
    },
    {
      "cell_type": "code",
      "execution_count": null,
      "metadata": {
        "id": "mahGlaAow5mD"
      },
      "outputs": [],
      "source": [
        "def build(deck):\n",
        "        for suit in [\"Spades\", \"Clubs\", \"Diamonds\", \"Hearts\"]:\n",
        "            for val in range(2, 15):\n",
        "                deck.append(Card(suit, val))\n",
        "\n",
        "#HINT: you may want to make an incrementing i variable"
      ]
    },
    {
      "cell_type": "markdown",
      "metadata": {
        "id": "6Eo-rGfOw5mD"
      },
      "source": [
        "While loops also alter an alternative way to loop a set of instructions forever, until a precise thing occurs to break the loop. See the code below."
      ]
    },
    {
      "cell_type": "code",
      "execution_count": 16,
      "metadata": {
        "id": "PTteFxwgw5mD",
        "outputId": "ff919b53-fdf7-4503-aa2a-3a5ef6b1a17e",
        "colab": {
          "base_uri": "https://localhost:8080/"
        }
      },
      "outputs": [
        {
          "output_type": "stream",
          "name": "stdout",
          "text": [
            "It took 3 random generations to get 10.\n"
          ]
        }
      ],
      "source": [
        "import random\n",
        "i = 0\n",
        "\n",
        "while True:\n",
        "    i += 1\n",
        "    ch = random.randint(1, 11)\n",
        "    if ch == 10:\n",
        "        print(f\"It took {str(i)} random generations to get 10.\")\n",
        "        break"
      ]
    },
    {
      "cell_type": "markdown",
      "metadata": {
        "id": "3D6Hy2giw5mD"
      },
      "source": [
        "30 random generations is a lot more than it would normally take, but it's important for code to be able to model unlikely, yet possible scenarios. Speaking of random values...\n",
        "\n",
        "## Random Values\n",
        "\n",
        "Because unpredictable randomness occurs in the real world, it's important to have a way to represent it. Simulations are able to use randomization, which could be in the form of random number generation or other methods like `shuffle`.\n",
        "\n",
        "Card decks are a great example of how random values can be used to represent real-world scenarios. In the card simulation, the `random` module's `shuffle` function is used to quite literally shuffle the deck, seen below."
      ]
    },
    {
      "cell_type": "code",
      "execution_count": null,
      "metadata": {
        "id": "S-cA1O3bw5mD"
      },
      "outputs": [],
      "source": [
        "def shuffle(deck):\n",
        "    random.shuffle(deck)"
      ]
    },
    {
      "cell_type": "markdown",
      "metadata": {
        "id": "KDCoDYGXw5mD"
      },
      "source": [
        "Often, random selection methods use functions like `randint` or `randrange` as ways to select certain indexes in lists, or might use the random numbers in some other way.\n",
        "\n",
        "Without shuffling the card order of the deck, can you think of a way that the aforementioned `random` module functions could be used to get a random card from the deck?\n",
        "\n",
        "## Simulation Homework\n",
        "\n",
        "Now that you've learned about simulations and how they're used, it's time to apply that knowledge by creating a (basic) simulation of a real-world scenario. It can be something in nature, like the changes in the wildlife population of a certain area; it can be a game, like Uno (no blackjack though, that's taken); or it can be something completely random and unique.\n",
        "\n",
        "The simulation must include...\n",
        "- Use of at least one random value\n",
        "- At least one list or similar data type (dictionary, set, etc.)\n",
        "- Efficient use of iteration (must support the purpose of the simualtion)\n",
        "- Selection (use of conditionals)\n",
        "\n",
        "Do this in your student copy in the cell provided. This is worth 0.9 out of the 3 possible points.\n",
        "\n",
        "# Databases \n",
        "We have already gone over databases in this class, but here is a refresher. A databse contains data that's stored in columns and rows. The information in this database can then be pulled from the database and can be used in a program. \n",
        "\n",
        "## Setting Up the Database\n",
        "\n",
        "Run the code cell below to prepare SQLite to create the database. If your system is struggling with the flask functions, verify that you're in the correct Python environment. Normally, in a flask repository like those we used in class, this info would be established in init.py, though `db.init_app(app)` typically takes place in main.py. **REMEMBER: You should only `db.init_app(app)` ONCE during the process!**"
      ]
    },
    {
      "cell_type": "code",
      "execution_count": 18,
      "metadata": {
        "id": "k20ZZeHLw5mD",
        "outputId": "8c8bdeec-57cf-4919-c8ce-906cd0d476ef",
        "colab": {
          "base_uri": "https://localhost:8080/"
        }
      },
      "outputs": [
        {
          "output_type": "stream",
          "name": "stdout",
          "text": [
            "Looking in indexes: https://pypi.org/simple, https://us-python.pkg.dev/colab-wheels/public/simple/\n",
            "Collecting flask_sqlalchemy\n",
            "  Downloading Flask_SQLAlchemy-3.0.3-py3-none-any.whl (24 kB)\n",
            "Requirement already satisfied: SQLAlchemy>=1.4.18 in /usr/local/lib/python3.10/dist-packages (from flask_sqlalchemy) (2.0.10)\n",
            "Requirement already satisfied: Flask>=2.2 in /usr/local/lib/python3.10/dist-packages (from flask_sqlalchemy) (2.2.4)\n",
            "Requirement already satisfied: Werkzeug>=2.2.2 in /usr/local/lib/python3.10/dist-packages (from Flask>=2.2->flask_sqlalchemy) (2.3.0)\n",
            "Requirement already satisfied: click>=8.0 in /usr/local/lib/python3.10/dist-packages (from Flask>=2.2->flask_sqlalchemy) (8.1.3)\n",
            "Requirement already satisfied: Jinja2>=3.0 in /usr/local/lib/python3.10/dist-packages (from Flask>=2.2->flask_sqlalchemy) (3.1.2)\n",
            "Requirement already satisfied: itsdangerous>=2.0 in /usr/local/lib/python3.10/dist-packages (from Flask>=2.2->flask_sqlalchemy) (2.1.2)\n",
            "Requirement already satisfied: greenlet!=0.4.17 in /usr/local/lib/python3.10/dist-packages (from SQLAlchemy>=1.4.18->flask_sqlalchemy) (2.0.2)\n",
            "Requirement already satisfied: typing-extensions>=4.2.0 in /usr/local/lib/python3.10/dist-packages (from SQLAlchemy>=1.4.18->flask_sqlalchemy) (4.5.0)\n",
            "Requirement already satisfied: MarkupSafe>=2.0 in /usr/local/lib/python3.10/dist-packages (from Jinja2>=3.0->Flask>=2.2->flask_sqlalchemy) (2.1.2)\n",
            "Installing collected packages: flask_sqlalchemy\n",
            "Successfully installed flask_sqlalchemy-3.0.3\n"
          ]
        }
      ],
      "source": [
        "# flask imports\n",
        "from flask import Flask\n",
        "! pip install flask_sqlalchemy\n",
        "from flask_sqlalchemy import SQLAlchemy\n",
        "\n",
        "# Setup of key Flask object (app)\n",
        "app = Flask(__name__)\n",
        "# Setup SQLAlchemy object and properties for the database (db)\n",
        "database = 'sqlite:///sqlite.db'  # path and filename of database\n",
        "app.config['SQLALCHEMY_TRACK_MODIFICATIONS'] = False\n",
        "app.config['SQLALCHEMY_DATABASE_URI'] = database\n",
        "app.config['SECRET_KEY'] = 'SECRET_KEY'\n",
        "db = SQLAlchemy()\n",
        "\n",
        "\n",
        "# This belongs in place where it runs once per project\n",
        "db.init_app(app)"
      ]
    },
    {
      "cell_type": "markdown",
      "metadata": {
        "id": "lw-2HM8Sw5mE"
      },
      "source": [
        "## The Model File \n",
        "The model file plays a crucial role in the formation of the database. \n",
        "- The model helps to create new databases\n",
        "- It provides a standardized method for formating the database entries across different systems \n",
        "- Objects used within the database are created"
      ]
    },
    {
      "cell_type": "code",
      "execution_count": 19,
      "metadata": {
        "id": "oSBQoHERw5mE"
      },
      "outputs": [],
      "source": [
        "#importing necessary items\n",
        "import os, base64\n",
        "import json\n",
        "from sqlalchemy.exc import IntegrityError\n",
        "\n",
        "# Define the User class to manage actions in the 'users' table\n",
        "class User(db.Model):\n",
        "    __tablename__ = 'players'  # table name is plural, class name is singular\n",
        "\n",
        "    # Define the User schema with \"vars\" from object\n",
        "    id = db.Column(db.Integer, primary_key=True)\n",
        "    _username = db.Column(db.String(255), unique=False, nullable=False)\n",
        "    _streak = db.Column(db.Integer, unique=True, nullable=False)\n",
        "\n",
        "    # constructor of a User object, initializes the instance variables within object (self)\n",
        "    def __init__(self, username, streak):\n",
        "        self._username = username\n",
        "        self._streak = streak\n",
        "\n",
        "    # a username getter method, extracts username from object\n",
        "    @property\n",
        "    def username(self):\n",
        "        return self._username\n",
        "    \n",
        "    # a setter function, allows username to be updated after initial object creation\n",
        "    @username.setter\n",
        "    def username(self, username):\n",
        "        self._username = username\n",
        "    \n",
        "    # a getter method, extracts streak from object\n",
        "    @property\n",
        "    def streak(self):\n",
        "        return self._streak\n",
        "    \n",
        "    # a setter function, allows streak to be updated after initial object creation\n",
        "    @streak.setter\n",
        "    def streak(self, streak):\n",
        "        self._streak = streak\n",
        "    \n",
        "    # output content using str(object) in human readable form, uses getter\n",
        "    # output content using json dumps, this is ready for API response\n",
        "    def __str__(self):\n",
        "        return json.dumps(self.read())\n",
        "\n",
        "    # CRUD create/add a new record to the table\n",
        "    # returns self or None on error\n",
        "    def create(self):\n",
        "        try:\n",
        "            # creates a person object from User(db.Model) class, passes initializers\n",
        "            db.session.add(self)  # add prepares to persist person object to Users table\n",
        "            db.session.commit()  # SqlAlchemy \"unit of work pattern\" requires a manual commit\n",
        "            return self\n",
        "        except IntegrityError:\n",
        "            db.session.remove()\n",
        "            return None\n",
        "\n",
        "    # CRUD read converts self to dictionary\n",
        "    # returns dictionary\n",
        "    def read(self):\n",
        "        return {\n",
        "            \"id\": self.id,\n",
        "            \"username\": self.username,\n",
        "            \"streak\": self.streak\n",
        "        }\n",
        "\n",
        "    # CRUD update: updates user name, password, phone\n",
        "    # returns self\n",
        "    def update(self, username, streak):\n",
        "        \"\"\"only updates values with length\"\"\"\n",
        "        if len(username) > 0:\n",
        "            self.username = username\n",
        "        if streak > 0:\n",
        "            self.streak = streak\n",
        "        db.session.commit()\n",
        "        return self\n",
        "\n",
        "    # CRUD delete: remove self\n",
        "    # None\n",
        "    def delete(self):\n",
        "        db.session.delete(self)\n",
        "        db.session.commit()\n",
        "        return None\n",
        "\n",
        "\n",
        "\"\"\"Database Creation and Testing \"\"\"\n",
        "\n",
        "# Builds working data for testing\n",
        "def initUsers():\n",
        "    with app.app_context():\n",
        "        \"\"\"Create database and tables\"\"\"\n",
        "        db.create_all()\n",
        "        \"\"\"Tester data for table\"\"\"\n",
        "        u1 = User(username=\"Mr. Cards\", streak=5)\n",
        "        u2 = User(username=\"Kard Kowntre\", streak=10)\n",
        "        u3 = User(username=\"Un Bea Table\", streak=15)\n",
        "\n",
        "        users = [u1, u2, u3]\n",
        "\n",
        "        \"\"\"Builds sample user/note(s) data\"\"\"\n",
        "        for user in users:\n",
        "            try:\n",
        "                user.create()\n",
        "                print(f'Created user with username \"{user.username}\".')\n",
        "            except IntegrityError:\n",
        "                '''fails with bad or duplicate data'''\n",
        "                db.session.remove()\n",
        "                print(f\"Records exist, duplicate email, or error: {user.username}\")"
      ]
    },
    {
      "cell_type": "markdown",
      "metadata": {
        "id": "Tu45vuMPw5mE"
      },
      "source": [
        "## The init Fuction\n",
        "The __init__ method has one purpose which is to initialize the object's attributes. This is what is known as the **constructor**. In our project, the __init__ method initalizes the username and streak as variables. "
      ]
    },
    {
      "cell_type": "code",
      "execution_count": 20,
      "metadata": {
        "id": "QccEu35qw5mE"
      },
      "outputs": [],
      "source": [
        "    # constructor of a User object, initializes the instance variables within object (self)\n",
        "    def __init__(self, username, streak):\n",
        "        self._username = username\n",
        "        self._score = streak"
      ]
    },
    {
      "cell_type": "markdown",
      "metadata": {
        "id": "z2fmbhG_w5mE"
      },
      "source": [
        "## Setters and Getters \n",
        "Setters and Getters are important methods used when writing code for databases.\n",
        "- **Setter**: a method that allows us to set or change the value of an attribute in a class.\n",
        "- **Getter**: a method that allows us to access an attribute in a given class.\n",
        "\n",
        "### Setter Example"
      ]
    },
    {
      "cell_type": "code",
      "execution_count": null,
      "metadata": {
        "id": "MCJNAw1Bw5mE"
      },
      "outputs": [],
      "source": [
        "# a setter function, allows streak to be updated after initial object creation\n",
        "@streak.setter\n",
        "def streak(self, streak):\n",
        "  self._streak = streak"
      ]
    },
    {
      "cell_type": "markdown",
      "metadata": {
        "id": "beiYGfvcw5mE"
      },
      "source": [
        "### Getter Example"
      ]
    },
    {
      "cell_type": "code",
      "execution_count": 25,
      "metadata": {
        "id": "F4OwZSFtw5mE"
      },
      "outputs": [],
      "source": [
        "# a getter method, extracts streak from object\n",
        "@property\n",
        "def streak(self):\n",
        "  return self._streak"
      ]
    },
    {
      "cell_type": "markdown",
      "metadata": {
        "id": "RDmlQY_Lw5mE"
      },
      "source": [
        "## The Api File \n",
        "An API is an important part of having a functional database. \n",
        "- it acts as a messenger that allows programs to access data from the others \n",
        "- it connects all information \n",
        "- for a database, an api retrives the data requested in code for the user "
      ]
    },
    {
      "cell_type": "code",
      "execution_count": 27,
      "metadata": {
        "id": "93Chrg9zw5mE",
        "outputId": "74f78de4-2567-4044-abd2-ecc6472f9962",
        "colab": {
          "base_uri": "https://localhost:8080/"
        }
      },
      "outputs": [
        {
          "output_type": "stream",
          "name": "stdout",
          "text": [
            "Looking in indexes: https://pypi.org/simple, https://us-python.pkg.dev/colab-wheels/public/simple/\n",
            "Collecting flask_restful\n",
            "  Downloading Flask_RESTful-0.3.9-py2.py3-none-any.whl (25 kB)\n",
            "Collecting aniso8601>=0.82\n",
            "  Downloading aniso8601-9.0.1-py2.py3-none-any.whl (52 kB)\n",
            "\u001b[2K     \u001b[90m━━━━━━━━━━━━━━━━━━━━━━━━━━━━━━━━━━━━━━━━\u001b[0m \u001b[32m52.8/52.8 kB\u001b[0m \u001b[31m6.7 MB/s\u001b[0m eta \u001b[36m0:00:00\u001b[0m\n",
            "\u001b[?25hRequirement already satisfied: Flask>=0.8 in /usr/local/lib/python3.10/dist-packages (from flask_restful) (2.2.4)\n",
            "Requirement already satisfied: pytz in /usr/local/lib/python3.10/dist-packages (from flask_restful) (2022.7.1)\n",
            "Requirement already satisfied: six>=1.3.0 in /usr/local/lib/python3.10/dist-packages (from flask_restful) (1.16.0)\n",
            "Requirement already satisfied: click>=8.0 in /usr/local/lib/python3.10/dist-packages (from Flask>=0.8->flask_restful) (8.1.3)\n",
            "Requirement already satisfied: Werkzeug>=2.2.2 in /usr/local/lib/python3.10/dist-packages (from Flask>=0.8->flask_restful) (2.3.0)\n",
            "Requirement already satisfied: itsdangerous>=2.0 in /usr/local/lib/python3.10/dist-packages (from Flask>=0.8->flask_restful) (2.1.2)\n",
            "Requirement already satisfied: Jinja2>=3.0 in /usr/local/lib/python3.10/dist-packages (from Flask>=0.8->flask_restful) (3.1.2)\n",
            "Requirement already satisfied: MarkupSafe>=2.0 in /usr/local/lib/python3.10/dist-packages (from Jinja2>=3.0->Flask>=0.8->flask_restful) (2.1.2)\n",
            "Installing collected packages: aniso8601, flask_restful\n",
            "Successfully installed aniso8601-9.0.1 flask_restful-0.3.9\n"
          ]
        }
      ],
      "source": [
        "import json\n",
        "from flask import Blueprint, request, jsonify\n",
        "! pip install flask_restful\n",
        "from flask_restful import Api, Resource # used for REST API building\n",
        "\n",
        "user_api = Blueprint('user_api', __name__,\n",
        "                   url_prefix='/api/users')\n",
        "\n",
        "api = Api(user_api)\n",
        "\n",
        "class UserAPI:        \n",
        "    class _CRUD(Resource):  # User API operation for Create, Read.  THe Update, Delete methods need to be implemeented\n",
        "        def post(self): # Create method\n",
        "            ''' Read data for json body '''\n",
        "            body = request.get_json()\n",
        "            \n",
        "            ''' Avoid garbage in, error checking '''\n",
        "            # validate name\n",
        "            username = body.get('username')\n",
        "            if username is None or len(username) < 1:\n",
        "                return {'message': f'Username is missing, or is less than a character'}, 400\n",
        "            # validate uid\n",
        "            streak = body.get('streak')\n",
        "            if streak is None or streak < 1:\n",
        "                return {'message': f'Streak is missing, or is less than 1'}, 400\n",
        "\n",
        "            ''' #1: Key code block, setup USER OBJECT '''\n",
        "            uo = User(username=username, \n",
        "                      streak=streak)\n",
        "            \n",
        "            ''' #2: Key Code block to add user to database '''\n",
        "            # create user in database\n",
        "            user = uo.create()\n",
        "            # success returns json of user\n",
        "            if user:\n",
        "                return jsonify(user.read())\n",
        "            # failure returns error\n",
        "            return {'message': f'Processed {username}, either a format error or a duplicate'}, 400\n",
        "\n",
        "        def get(self): # Read Method\n",
        "            users = User.query.all()    # read/extract all users from database\n",
        "            json_ready = [user.read() for user in users]  # prepare output in json\n",
        "            return jsonify(json_ready)  # jsonify creates Flask response object, more specific to APIs than json.dumps\n",
        "\n",
        "        def put(self):\n",
        "            body = request.get_json() # get the body of the request\n",
        "            id = body.get('id')\n",
        "            username = body.get('username')\n",
        "            streak = body.get('streak') # get the streak\n",
        "            user = User.query.get(id) # get the player (using the id in this case)\n",
        "            user.update(username=username, streak=streak)\n",
        "            return f\"{user.read()} Updated\"\n",
        "\n",
        "        def delete(self):\n",
        "            body = request.get_json()\n",
        "            id = body.get('id')\n",
        "            player = User.query.get(id)\n",
        "            player.delete()\n",
        "            return f\"{player.read()} Has been deleted\"\n",
        "\n",
        "    # building RESTapi endpoint\n",
        "    api.add_resource(_CRUD, '/')\n",
        "    "
      ]
    },
    {
      "cell_type": "markdown",
      "metadata": {
        "id": "CX1wDJ3ow5mE"
      },
      "source": [
        "This is important particularly in a full flask respository context, but in this case, you'll just need to run the `initUsers()` function."
      ]
    },
    {
      "cell_type": "code",
      "execution_count": 28,
      "metadata": {
        "id": "AK4Muimcw5mE",
        "outputId": "6061f1d2-0126-4406-c3a0-eb1d3a8d8efc",
        "colab": {
          "base_uri": "https://localhost:8080/"
        }
      },
      "outputs": [
        {
          "output_type": "stream",
          "name": "stdout",
          "text": [
            "Created user with username \"Mr. Cards\".\n",
            "Created user with username \"Kard Kowntre\".\n",
            "Created user with username \"Un Bea Table\".\n"
          ]
        }
      ],
      "source": [
        "initUsers()"
      ]
    },
    {
      "cell_type": "markdown",
      "metadata": {
        "id": "yQqgvD47w5mE"
      },
      "source": [
        "After generation, in the file `sqlite.db` in the `instances` folder, you should see a table called \"players\" that looks like this:\n",
        "\n",
        "<figure>\n",
        "  <img src=\"https://github.com/srihitakott1213/DVASS/blob/master/_notebooks/%7B%7Bsite.baseurl%7D%7D/images/Screen%20Shot%202023-04-25%20at%209.13.12%20PM.png?raw=1\" alt=\"Results: 49/50\" width=\"800\"/>\n",
        "  <figcaption>Make sure that the data forms completely and correctly.</figcaption>\n",
        "</figure>"
      ]
    },
    {
      "cell_type": "markdown",
      "metadata": {
        "id": "6taKgMLlw5mF"
      },
      "source": [
        "### An Alternative Method of Making SQLite Databases\n",
        "\n",
        "In a previous lesson, we went over using the `cursor` object in SQLite3. Rather than go over all of that here, [this lesson](https://nighthawkcoders.github.io/APCSP//2023/03/16/AP-unit2-4b.html) goes over it thoroughly. (You may use this method for the homework below.)\n",
        "\n",
        "## Database Homework\n",
        "\n",
        "For this assignment, we'd like you to make your own database file as instructed above. Remember, the API file isn't necessary in this case; you'll be focusing on making the model and the `init` function.\n",
        "\n",
        "Your database must include these things:\n",
        "- A class with at least four **attributes** (if not the cursor method)\n",
        "- Setters and getters for this class (if not the cursor method)\n",
        "- Each of the CRUD functions\n",
        "- An `init` function with at least four entries\n",
        "- A screenshot showing proof that your SQLite file has been created correctly\n",
        "\n",
        "Feel free to base your database on the model provided above! Ask our group if you have any questions or concerns."
      ]
    },
    {
      "cell_type": "code",
      "execution_count": null,
      "metadata": {
        "id": "RJU_wtAqw5mF"
      },
      "outputs": [],
      "source": [
        "# Remember the \"Setting Up the Database\" step!\n",
        "# If you've already run the db.init_app(app) function while in this notebook,\n",
        "# don't do it again until you've closed it!"
      ]
    },
    {
      "cell_type": "markdown",
      "metadata": {
        "id": "pNLBuY00w5mF"
      },
      "source": [
        "# Grading\n",
        "\n",
        "Your submission will be graded based on the following criteria:\n",
        "- Filling in the blank throughout the lesson and providing code in the given cells when applicable (0.9)\n",
        "- Simulation homework (0.9)\n",
        "- Database homework (0.9)\n",
        "\n",
        "Here are some ideas for ways to increase your score above a 2.7:\n",
        "- Make a frontend version of your simulation that can be interacted with on your blog\n",
        "- Connect your simulation to the database you create\n",
        "- Create a menu that allows a user to make an entry in your database (CRUD functions within it)\n",
        "- You can establish a relationship between two classes/tables in your database (see the relationship between the User and Note classes in the Nighthawk Coders flask repository)"
      ]
    },
    {
      "cell_type": "markdown",
      "source": [
        "#Simulation (Hangman) did extra which is connecting hangman list of words to database"
      ],
      "metadata": {
        "id": "tw8OTyTA0RW2"
      }
    },
    {
      "cell_type": "code",
      "source": [
        "import random\n",
        "\n",
        "words = [\"apple\", \"banana\", \"cherry\", \"dragonfruit\", \"elderberry\"]\n",
        "\n",
        "\n",
        "word = random.choice(words)\n",
        "\n",
        "\n",
        "guessed_word = \"_\" * len(word)\n",
        "\n",
        "\n",
        "guessed_letters = []\n",
        "\n",
        "\n",
        "guesses_left = 6\n",
        "\n",
        "\n",
        "while True:\n",
        "    \n",
        "    print(\" \".join(guessed_word))\n",
        "\n",
        "    \n",
        "    guess = input(\"Guess a letter: \").lower()\n",
        "\n",
        "\n",
        "    if guess in guessed_letters:\n",
        "        print(\"You already guessed that letter!\")\n",
        "        continue\n",
        "\n",
        "\n",
        "    guessed_letters.append(guess)\n",
        "\n",
        "\n",
        "    if guess in word:\n",
        "        for i in range(len(word)):\n",
        "            if word[i] == guess:\n",
        "                guessed_word = guessed_word[:i] + guess + guessed_word[i+1:]\n",
        "\n",
        "\n",
        "        if guessed_word == word:\n",
        "            print(\"Congratulations, you win!\")\n",
        "            break\n",
        "    else:\n",
        "\n",
        "        guesses_left -= 1\n",
        "        print(f\"Sorry, {guess} is not in the word. You have {guesses_left} guesses left.\")\n",
        "\n",
        "\n",
        "        if guesses_left == 0:\n",
        "            print(f\"Sorry, you lose. The word was {word}.\")\n",
        "            break\n"
      ],
      "metadata": {
        "id": "QCrnPma50LmH"
      },
      "execution_count": null,
      "outputs": []
    },
    {
      "cell_type": "code",
      "source": [
        "import sqlite3\n",
        "import random\n",
        "\n",
        "class HangmanDB:\n",
        "\n",
        "    def __init__(self, db_file):\n",
        "        self.conn = sqlite3.connect(db_file)\n",
        "        self.create_table()\n",
        "\n",
        "    def create_table(self):\n",
        "        c = self.conn.cursor()\n",
        "        c.execute('''CREATE TABLE IF NOT EXISTS words\n",
        "                     (id INTEGER PRIMARY KEY,\n",
        "                      word TEXT)''')\n",
        "        self.conn.commit()\n",
        "\n",
        "    def add_word(self, word):\n",
        "        c = self.conn.cursor()\n",
        "        c.execute('INSERT INTO words (word) VALUES (?)', (word,))\n",
        "        self.conn.commit()\n",
        "\n",
        "    def get_word(self):\n",
        "        c = self.conn.cursor()\n",
        "        c.execute('SELECT word FROM words ORDER BY RANDOM() LIMIT 1')\n",
        "        return c.fetchone()[0]\n",
        "\n",
        "    def update_word(self, id, word):\n",
        "        c = self.conn.cursor()\n",
        "        c.execute('UPDATE words SET word = ? WHERE id = ?', (word, id,))\n",
        "        self.conn.commit()\n",
        "\n",
        "    def delete_word(self, id):\n",
        "        c = self.conn.cursor()\n",
        "        c.execute('DELETE FROM words WHERE id = ?', (id,))\n",
        "        self.conn.commit()\n",
        "\n",
        "    def get_all_words(self):\n",
        "        c = self.conn.cursor()\n",
        "        c.execute('SELECT * FROM words')\n",
        "        return c.fetchall()\n"
      ],
      "metadata": {
        "id": "tQu7tNXN05bv"
      },
      "execution_count": 29,
      "outputs": []
    },
    {
      "cell_type": "markdown",
      "source": [
        "Screenshot of sqlite.db file\n",
        "![image](https://user-images.githubusercontent.com/41299387/235339137-f597af39-1249-4517-baf2-ef350a1bf2c7.png)\n",
        "\n",
        "\n"
      ],
      "metadata": {
        "id": "-bN1_2YQ2EmY"
      }
    }
  ],
  "metadata": {
    "kernelspec": {
      "display_name": "Python 3.9.12 ('base')",
      "language": "python",
      "name": "python3"
    },
    "language_info": {
      "codemirror_mode": {
        "name": "ipython",
        "version": 3
      },
      "file_extension": ".py",
      "mimetype": "text/x-python",
      "name": "python",
      "nbconvert_exporter": "python",
      "pygments_lexer": "ipython3",
      "version": "3.9.12"
    },
    "orig_nbformat": 4,
    "vscode": {
      "interpreter": {
        "hash": "56f7c0ddbd8295fccb7b65a09bceb7bda050a1a7ed2857cec799e2d3d977289f"
      }
    },
    "colab": {
      "provenance": []
    }
  },
  "nbformat": 4,
  "nbformat_minor": 0
}