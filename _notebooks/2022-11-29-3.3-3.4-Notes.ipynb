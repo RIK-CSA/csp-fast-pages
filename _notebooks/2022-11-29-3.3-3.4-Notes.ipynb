{
  "cells": [
    {
      "cell_type": "markdown",
      "metadata": {
        "id": "25EZ4a_LFC2o"
      },
      "source": [
        "# \"Unit 3 and 4 Lesson Notes and Hacks\"\n",
        "> Following along a lesson plan made by my classmates using notes and completing the hacks.\n",
        "\n",
        "- toc: true\n",
        "- branch: master\n",
        "- badges: true\n",
        "- comments: true\n",
        "- author: Raunak Mondal\n",
        "- categories: [fastpages, jupyter]"
      ]
    },
    {
      "cell_type": "markdown",
      "metadata": {
        "id": "Bhy1XU-3FC2t"
      },
      "source": [
        "# Unit 3.3 Notes\n",
        "\n",
        "## Video 1\n",
        "\n",
        "### Learning Objective\n",
        "Express an algorithm that uses sequencing without using a programming language\n",
        "\n",
        "#### Algorithms\n",
        "\n",
        "- Algorithms can be expressed in a variety of ways and can be executed by programs which are implemented using programming languages.\n",
        "- An algorithm is a finite set of instructions that accomplish a specific task, us as humans, do algorithms on a daily basis. \n",
        "\n",
        "\n",
        "## 3 Steps of Algorithms\n",
        " \n",
        "#### 1. Sequencing\n",
        "\n",
        "- Sequencing is doing steps in order.\n",
        "\n",
        "#### 3. Selection \n",
        "\n",
        "- Selection is when the programmer decides between two different outcomes.\n",
        "\n",
        "#### 3. Iteration\n",
        "\n",
        "- Iteration is when you have to repeat a step until that condition is fulfilled.\n",
        "\n",
        "## Video 2\n",
        "\n",
        "#### Vocabulary \n",
        "\n",
        "- algorithm- finite set of instructions that accomplish a specific task, composed of sequencing, selection, and iteration. \n",
        "- selection- a section of code is run only if a condition is met. \n",
        "- iteration- repeating steps or instructions over and over again\n",
        "- sequencing- outline or set of steps that we do and follow in order that they are given \n",
        "- variable- you can store an actual value, the value of a variable in another variable, the result of an operation, or result of a procedural call\n",
        "\n",
        "## Video 3\n",
        "\n",
        "### Arithmetic Operators\n",
        "\n",
        "- plus signs are addition\n",
        "- subraction signs are subtraction\n",
        "- asterisk/star is multiplication\n",
        "- slash indicates division\n",
        "\n",
        "# Unit 3.4\n",
        "\n",
        "## Video 1\n",
        "\n",
        "### Vocabulary\n",
        "\n",
        "- String: a sequence of characters\n",
        "- Len: finds the number of characters in a string (length)\n",
        "- String concatenation: combines two or more strings into one (combines words/letters)\n",
        "- Substring: a part of a existing string"
      ]
    },
    {
      "cell_type": "markdown",
      "metadata": {
        "id": "teDPcn77FC2u"
      },
      "source": [
        "# Hacks\n",
        "\n",
        "## 3.3 Video 1 Hacks"
      ]
    },
    {
      "cell_type": "code",
      "execution_count": null,
      "metadata": {
        "id": "V1MIiZCgFC2u",
        "outputId": "15d9ff95-d9eb-40f0-a527-187af1753cbc"
      },
      "outputs": [
        {
          "name": "stdout",
          "output_type": "stream",
          "text": [
            "[0, 2, 4, 6, 8, 10]\n"
          ]
        }
      ],
      "source": [
        "numbers = [0,1,2,3,4,5,6,7,8,9,10]\n",
        "evens = []\n",
        "\n",
        "for i in numbers:\n",
        "    if (numbers[i] % 2 == 0):\n",
        "        evens.append(numbers[i])\n",
        "\n",
        "print(evens)"
      ]
    },
    {
      "cell_type": "markdown",
      "metadata": {
        "id": "olP8zQvcFC2w"
      },
      "source": [
        "- Sequencing: when the code runs through the all steps.\n",
        "- Iteration: when the code goes through the numbers \"for i in numbers\"\n",
        "- Selection: when the code picks even numbers by using the code \"if (numbers[i] % 2 == 0);\""
      ]
    },
    {
      "cell_type": "code",
      "execution_count": null,
      "metadata": {
        "id": "xaWC3sAvFC2x",
        "outputId": "412c4ea5-fba8-4980-f96f-344d1df9f0e3"
      },
      "outputs": [
        {
          "name": "stdout",
          "output_type": "stream",
          "text": [
            "*\n",
            "**\n",
            "***\n",
            "****\n",
            "*****\n"
          ]
        }
      ],
      "source": [
        "i = 1\n",
        "starString = \"*\"\n",
        "while i <= 5:\n",
        "  j = 1\n",
        "  while j <= i:\n",
        "    print (\"*\", end= \"\")\n",
        "    j += 1\n",
        "  print ()\n",
        "  i += 1"
      ]
    },
    {
      "cell_type": "markdown",
      "metadata": {
        "id": "aDjRZVLOFC2x"
      },
      "source": [
        "- Sequencing: when the code runs through the all steps.\n",
        "- Iteration: when the code line \"while i <= 5\" runs because it repeats until the asteriks reach 5. \n",
        "- Selection: when the code line \"while j <= i\" runs because it chosses j."
      ]
    },
    {
      "cell_type": "markdown",
      "metadata": {
        "id": "XZulfSBzFC2y"
      },
      "source": [
        "## 3.3 Video 2 Hacks "
      ]
    },
    {
      "cell_type": "markdown",
      "metadata": {
        "id": "Ceu7ITUuFC2z"
      },
      "source": [
        "**Code segment**\n",
        "\n",
        "a ⟵ 7\n",
        "\n",
        "b ⟵ 1\n",
        "\n",
        "c ⟵ 3\n",
        "\n",
        "d ⟵ 4\n",
        "\n",
        "a ⟵ b\n",
        "\n",
        "b ⟵ c + d\n",
        "\n",
        "d ⟵ b \n",
        "\n",
        "find the value for a, b, c, d \n",
        "\n",
        "**My answer:**\n",
        "\n",
        "- a = 1\n",
        "- b = 7\n",
        "- c = 3\n",
        "- d = \n",
        "\n",
        "---\n",
        "\n",
        "**Code Segment**\n",
        "\n",
        "hot ⟵ true\n",
        "\n",
        "cold ⟵ false\n",
        "\n",
        "cold ⟵ hot \n",
        "\n",
        "hot ⟵ cold\n",
        "\n",
        "**What are the values of hot and cold after executing the code segment?**\n",
        "\n",
        "1. the value of hot is true, the value of cold is true \n",
        "2. the value of hot is false, the value of cold is true\n",
        "3. the value of hot is true, the value of cold is false\n",
        "4. the value of hot is false, the value of cold is false\n",
        "\n",
        "**My Answer:**\n",
        "\n",
        "1. \n",
        "\n",
        "---\n",
        "\n",
        "### Creating my own two code segments\n",
        "\n",
        "**Consider the following code segment:**\n",
        "\n",
        "- num1 ⟵ 25\n",
        "- num2 ⟵ 15 \n",
        "- num3 ⟵ 30\n",
        "- num2 ⟵ num3 \n",
        "- num3 ⟵ num1 \n",
        "- num1 ⟵ num2\n",
        "    \n",
        "DISPLAY(num1)\n",
        "\n",
        "DISPLAY(num2)\n",
        "\n",
        "DISPLAY(num3)\n",
        "\n",
        "**What is displayed after running this code segment?**\n",
        "\n",
        "1. 25 15 30\n",
        "2. 30 30 25\n",
        "3. 30 15 30\n",
        "4. 15 30 25\n",
        "\n",
        "<details closed>\n",
        "<summary>Click for the answer!</summary>\n",
        "2. because for num 1 the value is replaced by num 3's value which is 30. For num 2 the value is 30 because its replaced by num 1's value which was originally 25 but then was replaced by num 3's value 30. For num 3, the value is 25 because it's value is replaced by num 2 which num 2's value was replaced by num 1's. \n",
        "</details>\n",
        "\n",
        "---\n",
        "\n",
        "**Consider the following code segment:**\n",
        "\n",
        "- p ⟵ 10 \n",
        "- q ⟵ 20\n",
        "- r ⟵ 30\n",
        "- s ⟵ 40\n",
        "- p ⟵ q\n",
        "- q ⟵ r\n",
        "- s ⟵ q\n",
        "- r ⟵ p\n",
        "\n",
        "**What is the value of r as a result of running this code segment**\n",
        "\n",
        "1. 10\n",
        "2. 20\n",
        "3. 30\n",
        "4. 40\n",
        "\n",
        "<details closed>\n",
        "<summary>Click for the answer!</summary>\n",
        "2. because q is the variable assigned to p and q's value is 20.\n",
        "</details>\n",
        "\n",
        "---\n",
        "\n",
        "#### Sequencing\n",
        "\n",
        "**Problem 4 Answer**\n",
        "\n",
        "- num1 = 6\n",
        "- num2 = 11\n",
        "\n",
        "## 3.4 Video 1 Hacks\n",
        "\n",
        "#### Test 1\n",
        "\n",
        "**My Answer:**\n",
        "\n",
        "- SmithB@gmail.com\n",
        "\n",
        "#### Test 2\n",
        "\n",
        "**My Answer:**\n",
        "\n",
        "-    word1 <- \"computer\"\n",
        "-    word2 <- \"textbooks\"\n",
        "-    length1 <- len(word1)/2 = 4\n",
        "-    length2 <- len(word2)/3 = 3\n",
        "-    first <- substring(word1, 2, len1) = ompu\n",
        "-    second <- substring(word2, len2+3, len2) = ook\n",
        "-    newWord <- concat(first, second)\n",
        "    \n",
        "DISPLAY(newWord)\n",
        "\n",
        "Answer: ompuook"
      ]
    }
  ],
  "metadata": {
    "kernelspec": {
      "display_name": "Python 3.10.4 64-bit",
      "language": "python",
      "name": "python3"
    },
    "language_info": {
      "codemirror_mode": {
        "name": "ipython",
        "version": 3
      },
      "file_extension": ".py",
      "mimetype": "text/x-python",
      "name": "python",
      "nbconvert_exporter": "python",
      "pygments_lexer": "ipython3",
      "version": "3.10.4"
    },
    "orig_nbformat": 4,
    "vscode": {
      "interpreter": {
        "hash": "aee8b7b246df8f9039afb4144a1f6fd8d2ca17a180786b69acc140d282b71a49"
      }
    },
    "colab": {
      "provenance": []
    }
  },
  "nbformat": 4,
  "nbformat_minor": 0
}
