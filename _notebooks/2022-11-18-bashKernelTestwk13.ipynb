{
  "cells": [
    {
      "cell_type": "markdown",
      "metadata": {
        "id": "1oeOZnbavC12"
      },
      "source": [
        "# Week 13 Bash Kernel Test\n",
        "> Bash Kernel Test (Week 13)\n",
        "\n",
        "- toc: true \n",
        "- badges: true\n",
        "- comments: true\n",
        "- permalink: /week13/bashKernelTestwk13\n",
        "- categories: [week 13]"
      ]
    },
    {
      "cell_type": "code",
      "execution_count": null,
      "metadata": {
        "vscode": {
          "languageId": "shellscript"
        },
        "id": "iWx1KmNgvC4s",
        "outputId": "abc2b4fe-9d1e-4d9e-9624-0ca5c98f98de"
      },
      "outputs": [
        {
          "name": "stdout",
          "output_type": "stream",
          "text": [
            "If you see this, my Bash Kernel is working!\n"
          ]
        }
      ],
      "source": [
        "echo If you see this, my Bash Kernel is working!"
      ]
    }
  ],
  "metadata": {
    "kernelspec": {
      "display_name": "Bash",
      "language": "bash",
      "name": "bash"
    },
    "language_info": {
      "codemirror_mode": "shell",
      "file_extension": ".sh",
      "mimetype": "text/x-sh",
      "name": "bash"
    },
    "orig_nbformat": 4,
    "colab": {
      "provenance": []
    }
  },
  "nbformat": 4,
  "nbformat_minor": 0
}
