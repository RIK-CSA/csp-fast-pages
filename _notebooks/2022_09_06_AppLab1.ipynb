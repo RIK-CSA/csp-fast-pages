{
  "cells": [
    {
      "cell_type": "markdown",
      "metadata": {
        "id": "MGoLNGmZN67C"
      },
      "source": [
        "# App Lab Notes\n",
        "\n",
        "---\n",
        "- title: App Lab Notes\n",
        "- toc: true\n",
        "- comments: true\n",
        "- categories: [Blog]\n",
        "---\n"
      ]
    },
    {
      "cell_type": "markdown",
      "metadata": {
        "id": "2zHzu1sAN67H"
      },
      "source": [
        "# Notes\n",
        "- Our test is on a Capital Quiz\n",
        "- Use on event for every function\n",
        "- Have the questions about trivia\n",
        "- Use Variable to keep Score\n",
        "\n",
        "# Finished Project\n",
        "## https://studio.code.org/projects/applab/7RkP8F731P_pVyhyzeXEwJyUi3vt6N08ADSlKgFKHjY"
      ]
    }
  ],
  "metadata": {
    "kernelspec": {
      "display_name": "Python 3.8.10 64-bit",
      "language": "python",
      "name": "python3"
    },
    "language_info": {
      "name": "python",
      "version": "3.8.10"
    },
    "orig_nbformat": 4,
    "vscode": {
      "interpreter": {
        "hash": "916dbcbb3f70747c44a77c7bcd40155683ae19c65e1c03b4aa3499c5328201f1"
      }
    },
    "colab": {
      "provenance": []
    }
  },
  "nbformat": 4,
  "nbformat_minor": 0
}
