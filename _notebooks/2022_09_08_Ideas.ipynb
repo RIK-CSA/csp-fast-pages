{
  "cells": [
    {
      "cell_type": "markdown",
      "metadata": {
        "id": "NkCYXKBEUXDD"
      },
      "source": [
        "# App Ideas\n",
        "\n",
        "---\n",
        "- title: App Ideas\n",
        "- toc: true\n",
        "- comments: true\n",
        "- categories: [Notebook]\n",
        "---"
      ]
    },
    {
      "cell_type": "markdown",
      "metadata": {
        "id": "59l3YlU6UXDJ"
      },
      "source": [
        "## Brainstorm\n",
        "- Exercise Counter\n",
        "- Game\n",
        "- Calculator"
      ]
    },
    {
      "cell_type": "markdown",
      "metadata": {
        "id": "wkQbMlWrUXDK"
      },
      "source": [
        "## Calculator Idea\n",
        "- Use Buttons For numbers\n",
        "- and having a counter at the top\n",
        "- Have a UI that looks like a calculator"
      ]
    }
  ],
  "metadata": {
    "kernelspec": {
      "display_name": "Python 3.8.10 64-bit",
      "language": "python",
      "name": "python3"
    },
    "language_info": {
      "name": "python",
      "version": "3.8.10"
    },
    "orig_nbformat": 4,
    "vscode": {
      "interpreter": {
        "hash": "916dbcbb3f70747c44a77c7bcd40155683ae19c65e1c03b4aa3499c5328201f1"
      }
    },
    "colab": {
      "provenance": []
    }
  },
  "nbformat": 4,
  "nbformat_minor": 0
}