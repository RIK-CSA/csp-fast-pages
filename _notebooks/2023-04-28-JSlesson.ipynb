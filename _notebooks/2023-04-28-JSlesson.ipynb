{
  "cells": [
    {
      "cell_type": "markdown",
      "metadata": {
        "id": "W9fXgpgA-QDo"
      },
      "source": [
        "# Basic JavaScript Knowledge"
      ]
    },
    {
      "cell_type": "markdown",
      "metadata": {
        "id": "Ynji6jrN-QDq"
      },
      "source": [
        "### Variables \n",
        "        - declare JavaScript variables with var, let or const. \n",
        "        - If the value of the variable can change, like a total, use let. If the value is set, like prices, use const. Variables can hold any data type. "
      ]
    },
    {
      "cell_type": "code",
      "execution_count": null,
      "metadata": {
        "id": "OLTTxOj8-QDr",
        "outputId": "cda2ab66-7e51-4911-be2d-a38bd6739933"
      },
      "outputs": [
        {
          "data": {
            "text/plain": [
              "11"
            ]
          },
          "execution_count": 4,
          "metadata": {},
          "output_type": "execute_result"
        }
      ],
      "source": [
        "var x = 5;\n",
        "var y = 6;\n",
        "var z = x + y;\n",
        "\n",
        "z"
      ]
    },
    {
      "cell_type": "markdown",
      "metadata": {
        "id": "S9M6GFHi-QDs"
      },
      "source": [
        "### Data types- there are 8 JS data types. \n",
        "- List a few data types that you already know\n",
        "- string\n",
        "- integer\n",
        "- float\n",
        "- boolean\n"
      ]
    },
    {
      "cell_type": "markdown",
      "metadata": {
        "id": "ab9t5hfX-QDs"
      },
      "source": [
        "#### 1. String: a series of characters, written with single or double quotes\n"
      ]
    },
    {
      "cell_type": "code",
      "execution_count": null,
      "metadata": {
        "id": "BXEhoEj5-QDs",
        "outputId": "5ea5ee8d-19a9-42fd-ea1d-cb31e3c26ef4"
      },
      "outputs": [
        {
          "data": {
            "text/plain": [
              "'Mort'"
            ]
          },
          "execution_count": 43,
          "metadata": {},
          "output_type": "execute_result"
        }
      ],
      "source": [
        "let text = \"Mort\";\n",
        "text"
      ]
    },
    {
      "cell_type": "code",
      "execution_count": null,
      "metadata": {
        "id": "vGeenMVm-QDt",
        "outputId": "e2f98f60-6212-4c02-8a57-8e350e1a45f7"
      },
      "outputs": [
        {
          "data": {
            "text/plain": [
              "'Yeung'"
            ]
          },
          "execution_count": 44,
          "metadata": {},
          "output_type": "execute_result"
        }
      ],
      "source": [
        "let text2 = 'Yeung';\n",
        "text2"
      ]
    },
    {
      "cell_type": "markdown",
      "metadata": {
        "id": "gLHs6-xT-QDt"
      },
      "source": [
        "#### 2. Number: can be integers or decimals. \n",
        "        - You can also have exponential notation for large/small numbers "
      ]
    },
    {
      "cell_type": "markdown",
      "metadata": {
        "id": "hkh2tr7D-QDt"
      },
      "source": [
        "#### 3. Bigint: used to store integer values that are too big to be represented by a normal JS number\n",
        "        - JavaScript integers are only accurate up to 15 digits\n",
        "\n",
        "\n"
      ]
    },
    {
      "cell_type": "code",
      "execution_count": null,
      "metadata": {
        "id": "_uTjWBqO-QDt",
        "outputId": "c39e2a19-c32e-4cb5-ff42-bfc2ccd52b26"
      },
      "outputs": [
        {
          "data": {
            "text/plain": [
              "'bigint'"
            ]
          },
          "execution_count": 39,
          "metadata": {},
          "output_type": "execute_result"
        }
      ],
      "source": [
        "let number = 1234567890123456789012345n;\n",
        "let Largenum = BigInt(1234567890123456789012345)\n",
        "\n",
        "let typeLargenum = typeof Largenum;\n",
        "typeLargenum\n"
      ]
    },
    {
      "cell_type": "code",
      "execution_count": null,
      "metadata": {
        "id": "bj0yodO4-QDt",
        "outputId": "c9bea3e1-92f6-4304-c44d-63707bb1044c"
      },
      "outputs": [
        {
          "data": {
            "text/plain": [
              "1234567890123456824475648n"
            ]
          },
          "execution_count": 40,
          "metadata": {},
          "output_type": "execute_result"
        }
      ],
      "source": [
        "Largenum"
      ]
    },
    {
      "cell_type": "markdown",
      "metadata": {
        "id": "nDUcM8-Z-QDu"
      },
      "source": [
        "#### 4. Boolean: true or false, used in conditional testing\n"
      ]
    },
    {
      "cell_type": "code",
      "execution_count": null,
      "metadata": {
        "id": "OS-TCkFD-QDu",
        "outputId": "e638a1ce-a9f2-4326-8f15-46b242b6a072"
      },
      "outputs": [
        {
          "data": {
            "text/plain": [
              "false"
            ]
          },
          "execution_count": 42,
          "metadata": {},
          "output_type": "execute_result"
        }
      ],
      "source": [
        "Boolean(10 > 9)\n"
      ]
    },
    {
      "cell_type": "markdown",
      "metadata": {
        "id": "SPH9p6Te-QDu"
      },
      "source": [
        "Write a boolean statement that outputs true"
      ]
    },
    {
      "cell_type": "markdown",
      "metadata": {
        "id": "kTC0z605-QDu"
      },
      "source": [
        "#### 5. Undefined: a variable without a value, has the value undefined/empty values\n"
      ]
    },
    {
      "cell_type": "code",
      "execution_count": null,
      "metadata": {
        "id": "dlxVi8Bm-QDu"
      },
      "outputs": [],
      "source": [
        "let name;  \n",
        "name"
      ]
    },
    {
      "cell_type": "code",
      "execution_count": null,
      "metadata": {
        "id": "c8WvhswX-QDu"
      },
      "outputs": [],
      "source": [
        "grade = undefined;"
      ]
    },
    {
      "cell_type": "markdown",
      "metadata": {
        "id": "Zfzm4iDA-QDu"
      },
      "source": [
        "#### 6. Null: represents the intentional absence of any object value\n",
        "        - variable is empty at the moment and may have a value later"
      ]
    },
    {
      "cell_type": "code",
      "execution_count": null,
      "metadata": {
        "id": "ozm7czLp-QDu",
        "outputId": "285d5606-676e-41aa-fb54-288c2fa45e09"
      },
      "outputs": [
        {
          "name": "stdout",
          "output_type": "stream",
          "text": [
            "false\n",
            "false\n"
          ]
        }
      ],
      "source": [
        "let result;\n",
        "\n",
        "result = Boolean(undefined);\n",
        "console.log(result); // false\n",
        "\n",
        "result = Boolean(null);\n",
        "console.log(result); // false"
      ]
    },
    {
      "cell_type": "markdown",
      "metadata": {
        "id": "zlFk6H85-QDu"
      },
      "source": [
        "#### 7. Symbol: used to represent unique values that can be used as identifiers/keys in objects. \n",
        "        - They are also used to create private properties and methods in classes.\n",
        "        - unique and immutable, so they can be used as unique identifiers in objects and classes.\n",
        "        - useful for creating constants that can be shared across different parts of your code.\n"
      ]
    },
    {
      "cell_type": "code",
      "execution_count": null,
      "metadata": {
        "id": "MfGnQ_P4-QDv",
        "outputId": "6d9a2cee-240a-456b-8678-7d3ad699bcb2"
      },
      "outputs": [
        {
          "name": "stdout",
          "output_type": "stream",
          "text": [
            "Symbol()\n"
          ]
        }
      ],
      "source": [
        "// Create a Symbol\n",
        "const mySymbol = Symbol();\n",
        "\n",
        "console.log(mySymbol);\n",
        "// expected output: Symbol()\n"
      ]
    },
    {
      "cell_type": "code",
      "execution_count": 2,
      "metadata": {
        "id": "N8-NBuTX-QDv",
        "outputId": "8f54dd74-05b9-476d-d1af-c4e3a7341b02",
        "colab": {
          "base_uri": "https://localhost:8080/"
        }
      },
      "outputs": [
        {
          "output_type": "stream",
          "name": "stdout",
          "text": [
            "Hello World\n"
          ]
        }
      ],
      "source": [
        "const myObject = {\n",
        "    [mySymbol]: 'Hello World'\n",
        "  };\n",
        "  \n",
        "  console.log(myObject[[mySymbol]]);\n",
        "print(\"Hello World\")"
      ]
    },
    {
      "cell_type": "markdown",
      "metadata": {
        "id": "Mro-_tpE-QDv"
      },
      "source": [
        "Edit/add to the code above so that it outputs \"Hello World\""
      ]
    },
    {
      "cell_type": "markdown",
      "metadata": {
        "id": "prEYOYw5-QDv"
      },
      "source": [
        "#### 8. Object: an unordered collection of key-value pairs. Each key-value pair is called a property. \n",
        "        - object: written with curly braces {}, name:value pairs\n",
        "        - array: written with square brackets, separated by commas "
      ]
    },
    {
      "cell_type": "markdown",
      "metadata": {
        "id": "d4ceTqAD-QDv"
      },
      "source": [
        "Object\n",
        "- Identify the name/keys in the object below: name, breed, age, color\n",
        "- Identify the values in the object below: Elly, Rottweiler, 4, black"
      ]
    },
    {
      "cell_type": "code",
      "execution_count": null,
      "metadata": {
        "id": "pp6WpTLT-QDv",
        "outputId": "91ab3844-6eaf-48b6-dcd9-afe7f98a6e9f"
      },
      "outputs": [
        {
          "data": {
            "text/plain": [
              "{ name: 'Elly', breed: 'Rottweiler', age: 4, color: 'black' }"
            ]
          },
          "execution_count": 24,
          "metadata": {},
          "output_type": "execute_result"
        }
      ],
      "source": [
        "const dogs = {name: \"Elly\", breed:\"Rottweiler\", age:4, color:\"black\"}\n",
        "dogs"
      ]
    },
    {
      "cell_type": "markdown",
      "metadata": {
        "id": "XIhP9Gbv-QDv"
      },
      "source": [
        "Array"
      ]
    },
    {
      "cell_type": "code",
      "execution_count": null,
      "metadata": {
        "id": "Ih2T8tU2-QDv",
        "outputId": "53e38757-4606-445c-83f9-84222da25258"
      },
      "outputs": [
        {
          "data": {
            "text/plain": [
              "[ 'Love Story', 'Blank Space', 'I Knew You Were Trouble' ]"
            ]
          },
          "execution_count": 27,
          "metadata": {},
          "output_type": "execute_result"
        }
      ],
      "source": [
        "const songs = [\"Love Story\", \"Blank Space\", \"I Knew You Were Trouble\"];\n",
        "songs"
      ]
    },
    {
      "cell_type": "markdown",
      "metadata": {
        "id": "ldAWdO-V-QDv"
      },
      "source": [
        "### Const\n",
        "        - We use const to declare variables whose value can be initialized only at the time of declaration.  \n",
        "        - Const means that the identifier cannot be reassigned. "
      ]
    },
    {
      "cell_type": "code",
      "execution_count": null,
      "metadata": {
        "id": "YX86AIPM-QDv",
        "outputId": "91a2543b-9b04-4b0e-9c9c-499193f01d55"
      },
      "outputs": [
        {
          "data": {
            "text/plain": [
              "13"
            ]
          },
          "execution_count": 26,
          "metadata": {},
          "output_type": "execute_result"
        }
      ],
      "source": [
        "const cost1 = 2;\n",
        "const cost2 = 11;\n",
        "let totalCost = cost1 + cost2;\n",
        "\n",
        "totalCost"
      ]
    },
    {
      "cell_type": "markdown",
      "metadata": {
        "id": "ylBf-ewP-QDw"
      },
      "source": [
        "### Conditionals: control behavior, decides whether or not pieces of code can run.\n",
        "    - If: if a condition is true it is used to specify execution for a block of code.\n",
        "    - Else: if the same condition is false it specifies the execution for a block of code.\n",
        "    - Else If: new test if the first condition is false."
      ]
    },
    {
      "cell_type": "code",
      "execution_count": null,
      "metadata": {
        "id": "lUZypN7Q-QDw",
        "outputId": "eb653d6e-6ebe-4f86-bd42-95868275c9b9"
      },
      "outputs": [
        {
          "data": {
            "text/plain": [
              "'True'"
            ]
          },
          "execution_count": 54,
          "metadata": {},
          "output_type": "execute_result"
        }
      ],
      "source": [
        "if (10 > 5) {\n",
        "    var outcome = \"True\";\n",
        "}\n",
        "\n",
        "outcome;"
      ]
    },
    {
      "cell_type": "code",
      "execution_count": null,
      "metadata": {
        "id": "XAIM8OpA-QDw",
        "outputId": "cb4a02db-7d7f-4bfa-95b3-3bf37c57844f"
      },
      "outputs": [
        {
          "data": {
            "text/plain": [
              "'else block'"
            ]
          },
          "execution_count": 55,
          "metadata": {},
          "output_type": "execute_result"
        }
      ],
      "source": [
        "if (\"red\" === \"blue\") {\n",
        "    var outcome = \"if block\";\n",
        "} else {\n",
        "    var outcome = \"else block\";\n",
        "}\n",
        "outcome;"
      ]
    },
    {
      "cell_type": "code",
      "execution_count": null,
      "metadata": {
        "id": "zMhPsFGb-QDw",
        "outputId": "67b22ebb-1a03-4578-ba19-86d19ef65fdb"
      },
      "outputs": [
        {
          "data": {
            "text/plain": [
              "'Chilly'"
            ]
          },
          "execution_count": 62,
          "metadata": {},
          "output_type": "execute_result"
        }
      ],
      "source": [
        "let temperature = 54\n",
        "if (temperature < 70) {\n",
        "    cast = \"Chilly\";\n",
        "  } else if (temperature < 60) {\n",
        "    cast = \"Cold\";\n",
        "  } else {\n",
        "    cast = \"Warm\";\n",
        "  }\n",
        "\n",
        "cast"
      ]
    },
    {
      "cell_type": "markdown",
      "metadata": {
        "id": "T5HGJ6gp-QDw"
      },
      "source": [
        "Create a conditional statement about how you would greet someone based on the time of day. "
      ]
    },
    {
      "cell_type": "markdown",
      "metadata": {
        "id": "r_AVp0g5-QDw"
      },
      "source": [
        "### Functions: \n",
        "    - defining: define with function + functionName(parameter) { function code }.  It can be unnamed/anonymous can be defined based on a condition.\n",
        "    - calling: simply put the function name with a parameter and semicolon, or a function can call itself (recursive)"
      ]
    },
    {
      "cell_type": "markdown",
      "metadata": {
        "id": "GmxmZvck-QDw"
      },
      "source": [
        "### Iteration: \n",
        "        - for loop: repeats until a specified condition evaluates to false\n",
        "        - do...while: repeats until a specified condition evaluates to false\n",
        "        - while statement: executes its statements as long as a specified condition evaluates to true\n",
        "        - label: provides a statement with an identifier that lets you refer to it later in the code. ex. you can use a label to identify a loop, and then use the break or continue statements to    indicate whether a program should interrupt the loop or continue its execution\n",
        "        - break: used to terminate a loop, switch, or in conjunction with a labeled statement\n",
        "        - continue: can be used to restart a while, do-while, for, or label statement\n",
        "        - for...in: iterates a specified variable over all the enumerable properties of an object\n",
        "        - for...of statement creates a loop Iterating over iterable objects, invoking a custom iteration hook with statements to be executed for the value of each distinct property\n",
        "\n"
      ]
    },
    {
      "cell_type": "markdown",
      "metadata": {
        "id": "nHwDuho--QDw"
      },
      "source": [
        "# JavaScript in HTML- Questions\n",
        "1. Where do you store the JavaScript Code?\n",
        "2. How do you import a JS file into HTML?\n",
        "3. What is onClick?\n",
        "4. What tag do you use to write JavaScript code?\n",
        "\n",
        "\n",
        "Where do you store the JavaScript code?\n",
        "JavaScript code can be stored in various ways depending on the requirements of the application. For smaller applications, JavaScript code can be directly written inside an HTML file using the <script> tag. However, for larger applications with multiple files, it is recommended to store JavaScript code in separate files with the extension .js. These files can be stored in a folder named 'js' or 'scripts' in the root directory of the project. This keeps the HTML and JavaScript code separate and makes it easier to maintain the code.\n",
        "\n",
        "How do you import a JS file into HTML?\n",
        "To import a JavaScript file into an HTML file, we use the <script> tag. The src attribute of the <script> tag is used to specify the path to the JavaScript file. For example, if the JavaScript file is stored in the js folder and the file name is app.js, then the <script> tag would look like this:\n",
        "\n",
        "html\n",
        "Copy code\n",
        "<script src=\"js/app.js\"></script>\n",
        "This imports the JavaScript file into the HTML file, and the code in the JavaScript file can be executed when the HTML file is loaded in the browser.\n",
        "\n",
        "What is onClick?\n",
        "onClick is an event in JavaScript that is triggered when an HTML element is clicked. When an onClick event occurs, the JavaScript code associated with the event is executed. This event is commonly used in web applications to perform actions based on user interaction. For example, if we have a button with the id 'myButton', we can add an onClick event to the button that displays an alert when the button is clicked, like this:\n",
        "html\n",
        "Copy code\n",
        "<button id=\"myButton\" onClick=\"alert('Button clicked!')\">Click Me</button>\n",
        "When the button is clicked, an alert box will be displayed with the message 'Button clicked!'.\n",
        "\n",
        "What tag do you use to write JavaScript code?\n",
        "In HTML, JavaScript code is written inside the <script> tag. The <script> tag can be used in two ways to write JavaScript code. The first way is to write the code directly inside the <script> tag, like this:\n",
        "html\n",
        "Copy code\n",
        "<script>\n",
        "  // JavaScript code goes here\n",
        "</script>\n",
        "This method is useful for writing small amounts of JavaScript code.\n",
        "\n",
        "The second way is to write the JavaScript code in a separate file with the .js extension and import it into the HTML file using the <script> tag, as discussed earlier. This method is useful for writing larger amounts of JavaScript code and keeps the code organized and easier to maintain."
      ]
    },
    {
      "cell_type": "markdown",
      "metadata": {
        "id": "wqcFTTLe-QDw"
      },
      "source": [
        "# Hacks\n",
        "1. Add notes in this notebook\n",
        "2. Complete the code portions, questions, and prompts throughout the notebook\n",
        "3. Extra Credit: code a small JavaScript game "
      ]
    },
    {
      "cell_type": "code",
      "source": [
        "// generate a random number between 1 and 100\n",
        "const targetNumber = Math.floor(Math.random() * 100) + 1;\n",
        "\n",
        "// initialize the number of guesses to 0\n",
        "let numberOfGuesses = 0;\n",
        "\n",
        "// get the input element and button element from the DOM\n",
        "const input = document.querySelector(\"#guess-input\");\n",
        "const button = document.querySelector(\"#guess-button\");\n",
        "\n",
        "// add an event listener to the button that handles the guess\n",
        "button.addEventListener(\"click\", function () {\n",
        "  // get the player's guess from the input element\n",
        "  const guess = parseInt(input.value);\n",
        "\n",
        "  // increment the number of guesses\n",
        "  numberOfGuesses++;\n",
        "\n",
        "  // check if the guess is correct\n",
        "  if (guess === targetNumber) {\n",
        "    alert(`Congratulations! You guessed the number in ${numberOfGuesses} tries.`);\n",
        "  } else {\n",
        "    // give the player a hint\n",
        "    const hint = guess < targetNumber ? \"higher\" : \"lower\";\n",
        "    alert(`Try again! The number is ${hint}.`);\n",
        "  }\n",
        "\n",
        "  // clear the input element\n",
        "  input.value = \"\";\n",
        "});\n"
      ],
      "metadata": {
        "id": "58TiOa7thMrL"
      },
      "execution_count": null,
      "outputs": []
    }
  ],
  "metadata": {
    "kernelspec": {
      "display_name": "JavaScript (Node.js)",
      "language": "javascript",
      "name": "javascript"
    },
    "language_info": {
      "file_extension": ".js",
      "mimetype": "application/javascript",
      "name": "javascript",
      "version": "10.13.0"
    },
    "orig_nbformat": 4,
    "vscode": {
      "interpreter": {
        "hash": "31f2aee4e71d21fbe5cf8b01ff0e069b9275f58929596ceb00d14d90e3e16cd6"
      }
    },
    "colab": {
      "provenance": []
    }
  },
  "nbformat": 4,
  "nbformat_minor": 0
}