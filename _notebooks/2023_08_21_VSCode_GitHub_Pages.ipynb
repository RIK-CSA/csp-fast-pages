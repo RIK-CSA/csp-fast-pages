{
  "cells": [
    {
      "cell_type": "markdown",
      "metadata": {
        "id": "-OJzBgwEuP3X"
      },
      "source": [
        "---\n",
        "comments: true\n",
        "layout: post\n",
        "title: Student GitHub Pages\n",
        "description: A key to development in this class is the association VSCode to a GitHub pages project.  This is where students update assignments and present work.\n",
        "type: hacks\n",
        "courses: { csse: {week: 1}, csp: {week: 1}, csa: {week: 0} }\n",
        "categories: [C4.1]\n",
        "---"
      ]
    },
    {
      "cell_type": "markdown",
      "metadata": {
        "id": "eEBtYQQ9uP3Z"
      },
      "source": [
        "## Create your own GitHub Pages Project\n",
        "> Make you own project from GitHub Pages Student Repo."
      ]
    },
    {
      "cell_type": "markdown",
      "metadata": {
        "id": "Xry98kphuP3Z"
      },
      "source": [
        "## Fork a GitHub Pages Repository\n",
        "> Goto GitHub [student](https://github.com/nighthawkcoders/student) and run Fork.\n",
        "\n",
        "- Reference: [Fork a repo](https://docs.github.com/en/get-started/quickstart/fork-a-repo)"
      ]
    },
    {
      "cell_type": "markdown",
      "metadata": {
        "id": "4v7AaeNpuP3Z"
      },
      "source": [
        "## Start the GitHub Pages Student Project\n",
        "> Run the following commands using terminal on you machine.  Be sure Repo has been forked.\n",
        "\n",
        "- Clone and Open project in VSCode\n",
        "- Change \"forkme\" text with your \"ghid\" or selected location\n",
        "\n",
        "\n",
        "```bash\n",
        "(base) id:~$ mkdir -p vscode # make a vscode directory\n",
        "(base) id:~$ cd vscode # change to the directory\n",
        "(base) id:~$ git clone https://github.com/forkme/student.git # change to your repo\n",
        "(base) id:~$ cd  student  # change to the project directory\n",
        "(base) id:~$ code . # open VSCode in project directory\n",
        "```"
      ]
    },
    {
      "cell_type": "markdown",
      "metadata": {
        "id": "TiDbbV7XuP3Z"
      },
      "source": [
        "### VSCode for Python Extensions\n",
        "- VSCode [Language extensions](https://code.visualstudio.com/docs/languages/overview)\n",
        "    - Install Python, Python Environment Manager, Python Extension Pack, Pylance\n",
        "    - Install Jupyter, Jupyter Keymap\n",
        "    - Install IntelliCode, IntelliCode API Usage Examples\n",
        "    - Windows machines install WSL Remote Development"
      ]
    },
    {
      "cell_type": "code",
      "execution_count": 1,
      "metadata": {
        "vscode": {
          "languageId": "html"
        },
        "colab": {
          "base_uri": "https://localhost:8080/",
          "height": 583
        },
        "id": "-YctpM7HuP3a",
        "outputId": "0051c74e-18b3-4e88-cbe7-fc585847b759"
      },
      "outputs": [
        {
          "output_type": "display_data",
          "data": {
            "text/plain": [
              "<IPython.core.display.HTML object>"
            ],
            "text/html": [
              "\n",
              "<!-- Here is a little preview of HTML to Describe VSCode Marketplace -->\n",
              "\n",
              "<div>\n",
              "    <div style=\"float: left; margin: 0px 10px 10px 0px;\">\n",
              "        <a href=\"https://marketplace.visualstudio.com/vscode\">\n",
              "            <img alt=\"Extensions\" src=\"https://nighthawkcoders.github.io/student/images/extensions.png\" title=\"VS Code Marketplace\" width=\"250\">\n",
              "        </a>\n",
              "    </div>\n",
              "    <div>\n",
              "        <hr>\n",
              "        <p>\n",
              "        Visual Studio Code claims to provide just the tools a developer needs for a quick code-build-debug and version control cycle.  It provides a Market Place for enhancements and more complex workflows.  <mark>Before adding extensions, clone projects</mark> and see what is requested or added.  Here are some extension that were added through that process or that I have added...\n",
              "        </p>\n",
              "        <ul>\n",
              "            <li>\n",
              "                <mark>In marketplace</mark> there are several extensions for Python, Python Intellisense, Python Extension Pack\n",
              "            </li>\n",
              "            <li>\n",
              "                <mark>Jupyter</mark>: This supports build jupyter ipynb files from within VS Code\n",
              "            </li>\n",
              "            <li>\n",
              "                <mark>Code Spell Checker</mark>: Got to have it when building documents, particularly if you spell and typo like the Teacher\n",
              "            </li>\n",
              "            <li>\n",
              "                <mark>IntelliCode</mark>: Got to have it when creating a code file, it will sense type of code by extension.  Also, it help with syntax as you are coding.\n",
              "            </li>\n",
              "        </ul>\n",
              "        <p>\n",
              "        <mark>Review Details in Marketplace for better explanation of purpose of the things explained above</mark>. There is a lot more!  As you need Git help look at things like <mark>Git History and GitLens</mark>.  Or, perhaps you enjoy Vim and want Vim emulation for editing, their is an extension for that.  Later, there may be interest in AWS Toolkit or Deploy extensions.  We will learn more about Marketplace Extensions as we do more.\n",
              "        </p>\n",
              "        <hr>\n",
              "    </div>\n",
              "</div>\n"
            ]
          },
          "metadata": {}
        }
      ],
      "source": [
        "%%HTML\n",
        "\n",
        "<!-- Here is a little preview of HTML to Describe VSCode Marketplace -->\n",
        "\n",
        "<div>\n",
        "    <div style=\"float: left; margin: 0px 10px 10px 0px;\">\n",
        "        <a href=\"https://marketplace.visualstudio.com/vscode\">\n",
        "            <img alt=\"Extensions\" src=\"https://nighthawkcoders.github.io/student/images/extensions.png\" title=\"VS Code Marketplace\" width=\"250\">\n",
        "        </a>\n",
        "    </div>\n",
        "    <div>\n",
        "        <hr>\n",
        "        <p>\n",
        "        Visual Studio Code claims to provide just the tools a developer needs for a quick code-build-debug and version control cycle.  It provides a Market Place for enhancements and more complex workflows.  <mark>Before adding extensions, clone projects</mark> and see what is requested or added.  Here are some extension that were added through that process or that I have added...\n",
        "        </p>\n",
        "        <ul>\n",
        "            <li>\n",
        "                <mark>In marketplace</mark> there are several extensions for Python, Python Intellisense, Python Extension Pack\n",
        "            </li>\n",
        "            <li>\n",
        "                <mark>Jupyter</mark>: This supports build jupyter ipynb files from within VS Code\n",
        "            </li>\n",
        "            <li>\n",
        "                <mark>Code Spell Checker</mark>: Got to have it when building documents, particularly if you spell and typo like the Teacher\n",
        "            </li>\n",
        "            <li>\n",
        "                <mark>IntelliCode</mark>: Got to have it when creating a code file, it will sense type of code by extension.  Also, it help with syntax as you are coding.\n",
        "            </li>\n",
        "        </ul>\n",
        "        <p>\n",
        "        <mark>Review Details in Marketplace for better explanation of purpose of the things explained above</mark>. There is a lot more!  As you need Git help look at things like <mark>Git History and GitLens</mark>.  Or, perhaps you enjoy Vim and want Vim emulation for editing, their is an extension for that.  Later, there may be interest in AWS Toolkit or Deploy extensions.  We will learn more about Marketplace Extensions as we do more.\n",
        "        </p>\n",
        "        <hr>\n",
        "    </div>\n",
        "</div>"
      ]
    },
    {
      "cell_type": "markdown",
      "metadata": {
        "id": "FykYphvhuP3b"
      },
      "source": [
        "With all of this in place, we can spin up the development container inside VS Code. Then, from the VS Code terminal in our Docker container environment, we can run docker-compose up in the root of our project. This will start up our individual service containers on the host machine. But, thanks to the shared network and volumes, we can continue to edit code in our development container and see the changes immediately show up on our services!\n",
        "\n",
        "It’s also possible to use the Docker CLI to shut down or restart services as needed in development. You can even open another VS Code window and use the Remote-Containers extension to connect to one of the running service containers to directly inspect logs, edit code within that constrained environment, etc. This is a generic setup that can work for any project. Onboarding new developers requires just installing VS Code and Docker and then cloning the repository and opening it in a container. The initial setup is a lot of work, but I think this is the cleanest development experience you can get with Docker right now."
      ]
    },
    {
      "cell_type": "markdown",
      "metadata": {
        "id": "I-yFNN5QuP3b"
      },
      "source": [
        "## Hacks\n",
        "> Setup Tools and test GitHub connection. Tool and Equipment setup is like attendance, without Tools and Equipment you are effectually absent.\n",
        "- Change index.md to show it is REALLY YOURS.  Refer to [Markdown Cheet Sheet](https://www.markdownguide.org/cheat-sheet/).\n",
        "    - Push a minor \"index.md\" change and Verify on GitHub [https://code.visualstudio.com/docs/editor/versioncontrol#_git-support](https://code.visualstudio.com/docs/editor/versioncontrol#_git-support)\n",
        "    - Verify \"index.md\" change on deployed GitHub Pages"
      ]
    }
  ],
  "metadata": {
    "kernelspec": {
      "display_name": "Python 3 (ipykernel)",
      "language": "python",
      "name": "python3"
    },
    "language_info": {
      "codemirror_mode": {
        "name": "ipython",
        "version": 3
      },
      "file_extension": ".py",
      "mimetype": "text/x-python",
      "name": "python",
      "nbconvert_exporter": "python",
      "pygments_lexer": "ipython3",
      "version": "3.9.12"
    },
    "colab": {
      "provenance": []
    }
  },
  "nbformat": 4,
  "nbformat_minor": 0
}