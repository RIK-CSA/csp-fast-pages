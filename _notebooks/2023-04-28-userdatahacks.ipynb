{
 "cells": [
  {
   "attachments": {},
   "cell_type": "markdown",
   "metadata": {},
   "source": [
    "# Database hacks and extra"
   ]
  },
  {
   "cell_type": "code",
   "execution_count": 10,
   "metadata": {},
   "outputs": [],
   "source": [
    "from flask import Flask\n",
    "from flask_sqlalchemy import SQLAlchemy\n",
    "\n",
    "app = Flask(__name__)\n",
    "app.config['SQLALCHEMY_DATABASE_URI'] = 'sqlite:///students.db'\n",
    "db = SQLAlchemy(app)\n",
    "\n",
    "class Student(db.Model):\n",
    "    id = db.Column(db.Integer, primary_key=True)\n",
    "    name = db.Column(db.String(80), nullable=False)\n",
    "    grade = db.Column(db.Integer, nullable=False)\n",
    "\n",
    "    def __repr__(self):\n",
    "        return f'<Student {self.name}>'\n",
    "\n",
    "class StudentDatabase:\n",
    "    def __init__(self):\n",
    "        db.create_all()\n",
    "\n",
    "    def create_student(self, name, grade):\n",
    "        new_student = Student(name=name, grade=grade)\n",
    "        db.session.add(new_student)\n",
    "        db.session.commit()\n",
    "\n",
    "    def read_students(self):\n",
    "        return Student.query.all()\n",
    "\n",
    "    def update_student(self, student_id, name=None, grade=None):\n",
    "        student = Student.query.get(student_id)\n",
    "        if name:\n",
    "            student.name = name\n",
    "        if grade:\n",
    "            student.grade = grade\n",
    "        db.session.commit()\n",
    "\n",
    "    def delete_student(self, student_id):\n",
    "        student = Student.query.get(student_id)\n",
    "        db.session.delete(student)\n",
    "        db.session.commit()\n"
   ]
  },
  {
   "attachments": {},
   "cell_type": "markdown",
   "metadata": {},
   "source": [
    "# Using Database"
   ]
  },
  {
   "cell_type": "code",
   "execution_count": 12,
   "metadata": {},
   "outputs": [
    {
     "name": "stdout",
     "output_type": "stream",
     "text": [
      "\n"
     ]
    }
   ],
   "source": [
    "student_db = StudentDatabase()\n",
    "\n",
    "# Create a new student\n",
    "student_db.create_student(name='John Doe', grade=11)\n",
    "\n",
    "# Read all students\n",
    "students = student_db.read_students()\n",
    "for student in students:\n",
    "    print(student)\n",
    "\n",
    "# Update a student\n",
    "student_db.update_student(student_id=1, grade=12)\n",
    "\n",
    "# Delete a student\n",
    "student_db.delete_student(student_id=1)"
   ]
  },
  {
   "attachments": {},
   "cell_type": "markdown",
   "metadata": {},
   "source": [
    "# Extra: Quiz on Defining classes and creating objects and Property decorators"
   ]
  },
  {
   "attachments": {},
   "cell_type": "markdown",
   "metadata": {},
   "source": [
    "  <head>\n",
    "    <style>\n",
    "      /* Styles for buttons */\n",
    "      .button {\n",
    "        width: 200px;\n",
    "        height: 50px;\n",
    "        font-size: 14px;\n",
    "        border: none;\n",
    "        margin-bottom: 10px;\n",
    "      }\n",
    "      .correct {\n",
    "        background-color: green;\n",
    "        color: white;\n",
    "      }\n",
    "      .incorrect {\n",
    "        background-color: red;\n",
    "        color: white;\n",
    "      }\n",
    "    </style>\n",
    "  </head>\n",
    "<div id=\"quiz\">\n",
    "  - What is a class?\n",
    "    <div class=\"row\">\n",
    "      <button class=\"button\" onclick=\"this.classList.add('incorrect')\">A function that returns an object</button>\n",
    "      <button class=\"button\" onclick=\"this.classList.add('correct')\">A blueprint for creating objects</button>\n",
    "      <button class=\"button\" onclick=\"this.classList.add('incorrect')\">A type of variable</button>\n",
    "      <button class=\"button\" onclick=\"this.classList.add('incorrect')\">A method that creates an object</button>\n",
    "    </div>\n",
    "  - How do you create an object from a class?\n",
    "    <div class=\"row\">\n",
    "      <button class=\"button\" onclick=\"this.classList.add('incorrect')\">By calling the class like a function with the `new` keyword</button>\n",
    "      <button class=\"button\" onclick=\"this.classList.add('correct')\">By calling the class like a function without the `new` keyword</button>\n",
    "      <button class=\"button\" onclick=\"this.classList.add('incorrect')\">By assigning the class to a variable</button>\n",
    "      <button class=\"button\" onclick=\"this.classList.add('incorrect')\">By using the `create` method on the class</button>\n",
    "    </div>\n",
    "  - What is a property decorator?\n",
    "    <div class=\"row\">\n",
    "      <button class=\"button\" onclick=\"this.classList.add('incorrect')\">A way to define methods in a class</button>\n",
    "      <button class=\"button\" onclick=\"this.classList.add('correct')\">A way to define getter and setter methods for a class attribute</button>\n",
    "      <button class=\"button\" onclick=\"this.classList.add('incorrect')\">A way to define static methods in a class</button>\n",
    "      <button class=\"button\" onclick=\"this.classList.add('incorrect')\">A way to define class methods in a class</button>\n",
    "    </div>\n",
    "- What is a class method?\n",
    "    <div class=\"row\">\n",
    "      <button class=\"button\" onclick=\"this.classList.add('incorrect')\">A method that can only be called on an instance of a class</button>\n",
    "      <button class=\"button\" onclick=\"this.classList.add('correct')\">A method that is bound to the class and not the instance of the class</button>\n",
    "      <button class=\"button\" onclick=\"this.classList.add('incorrect')\">A method that can only be called on the class itself</button>\n",
    "      <button class=\"button\" onclick=\"this.classList.add('incorrect')\">A method that is not bound to the class or the instance of the class</button>\n",
    "    </div>\n",
    "  - What is a static method?\n",
    "    <div class=\"row\">\n",
    "      <button class=\"button\" onclick=\"this.classList.add('incorrect')\">A method that can only be called on an instance of a class</button>\n",
    "      <button class=\"button\" onclick=\"this.classList.add('incorrect')\">A method that is bound to the class and not the instance of the class</button>\n",
    "      <button class=\"button\" onclick=\"this.classList.add('incorrect')\">A method that can only be called on the class itself</button>\n",
    "      <button class=\"button\" onclick=\"this.classList.add('correct')\">A method that is not bound to the class or the instance of the class</button>\n",
    "    </div>"
   ]
  }
 ],
 "metadata": {
  "kernelspec": {
   "display_name": "base",
   "language": "python",
   "name": "python3"
  },
  "language_info": {
   "codemirror_mode": {
    "name": "ipython",
    "version": 3
   },
   "file_extension": ".py",
   "mimetype": "text/x-python",
   "name": "python",
   "nbconvert_exporter": "python",
   "pygments_lexer": "ipython3",
   "version": "3.9.12"
  },
  "orig_nbformat": 4
 },
 "nbformat": 4,
 "nbformat_minor": 2
}
