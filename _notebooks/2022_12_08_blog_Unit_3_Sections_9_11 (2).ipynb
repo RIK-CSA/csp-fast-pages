{
  "cells": [
    {
      "cell_type": "markdown",
      "metadata": {
        "id": "zjfA9UoJUTij"
      },
      "source": [
        "# 3.9-3.11 Homework and Hacks\n",
        "\n",
        "- toc: true \n",
        "- badges: true\n",
        "- comments: true\n",
        "- categories: [markdown]\n",
        "- image: None"
      ]
    },
    {
      "cell_type": "markdown",
      "metadata": {
        "id": "GFeKnJVxUTio"
      },
      "source": [
        "# Important Vocab/Notes\n",
        "- Indexes: the number that represents an element in a list\n",
        "- Element a integer or string in a list.\n",
        "- Algorithms can be written in different ways and still accomplish the same tasks\n",
        "- Algorithms that appear similar can yield different side effects or results\n",
        "- Some conditional statements can be written as equivalent Boolean expressions\n",
        "- Some Boolean expressions can be written as equivalent conditional statements\n",
        "- Different algorithms can be developed or used to solve the same problem\n",
        "- Algorithms can be created from an idea, by combining existing algorithms, or by modifying existing algorithms.\n"
      ]
    },
    {
      "cell_type": "markdown",
      "metadata": {
        "id": "2J2htD6EUTip"
      },
      "source": [
        "## 1. **Write this Boolean statement in the form of a conditional (if/else) statement:**\n",
        "stayInside⟵((isCold) OR (isRaining))"
      ]
    },
    {
      "cell_type": "code",
      "execution_count": null,
      "metadata": {
        "vscode": {
          "languageId": "javascript"
        },
        "id": "kq_Bsxf_UTiq"
      },
      "outputs": [],
      "source": [
        "{\n",
        "if(isRaining){\n",
        "        stayInside <- true\n",
        "    }\n",
        "    if(isCold){\n",
        "        stayInside <- true\n",
        "    }\n",
        "else {\n",
        "        stayInside <- false\n",
        "    }\n",
        "    }"
      ]
    },
    {
      "cell_type": "markdown",
      "metadata": {
        "id": "RMX0hPSGUTit"
      },
      "source": [
        "## 2. **Create an algorithm that uses selection and/or iteration that will represent one player's complete turn.**\n",
        "\n",
        "- During a turn, each player gets 4 attempts/chances to get the greatest number possible.\n",
        "\n",
        "- During each attempt, the player will use a random number generator to select a random number from 1 to 10.\n",
        "\n",
        "- After they have had 4 chances, their score is the greatest number they received from the random number generator, and their turn is over."
      ]
    },
    {
      "cell_type": "code",
      "execution_count": null,
      "metadata": {
        "id": "pAe1bsqgUTiw",
        "outputId": "e0d1fafb-ec4c-4936-b597-1e3d923e23b5"
      },
      "outputs": [
        {
          "name": "stdout",
          "output_type": "stream",
          "text": [
            "[10, 4, 5, 6]\n",
            "Maximum: 10\n"
          ]
        }
      ],
      "source": [
        "import random\n",
        "attempts = []\n",
        "\n",
        "i = 1 \n",
        "while i <= 4:\n",
        "    attempts.append(random.randint(1,10))\n",
        "    i = i + 1\n",
        "    \n",
        "print(attempts)\n",
        "print(\"Maximum:\", max(attempts))"
      ]
    },
    {
      "cell_type": "markdown",
      "metadata": {
        "id": "mz-uGUObUTiy"
      },
      "source": [
        "## 3. **Create an algorithm that will allow the arrow to reach the gray square:**"
      ]
    },
    {
      "cell_type": "code",
      "execution_count": null,
      "metadata": {
        "vscode": {
          "languageId": "javascript"
        },
        "id": "rNZDrqYnUTiz"
      },
      "outputs": [],
      "source": [
        "{\n",
        "if canmoveFoward{\n",
        "    moveFoward\n",
        "}\n",
        "else{\n",
        "    canturnRight{\n",
        "     turnRight\n",
        "    }\n",
        "    canturnLeft{\n",
        "     turnLeft\n",
        "    }   \n",
        "}\n",
        "}"
      ]
    },
    {
      "cell_type": "markdown",
      "metadata": {
        "id": "gQDjLsIHUTi1"
      },
      "source": [
        "\n",
        "## 4. Make a binary search tree of different the list [1,2,3,4,6,9,11,69]\n",
        "![](https://user-images.githubusercontent.com/47646488/206983716-73e6532a-1d73-463d-ab8b-bdf0f5ea0858.png)"
      ]
    },
    {
      "cell_type": "markdown",
      "metadata": {
        "id": "WoftUxEVUTi3"
      },
      "source": [
        "## 5. Explain thorughly how to find the number 69 in the list above (use key words)\n",
        "\n",
        "- Using sequential search you would go through the list comparing 69 to every value in the list until the number (69) matches 69. In the order this list is it will take 7 iterations to find 69\n",
        "- Using binary search you would start in the middle, you can find this by adding the first and last last ((1+8)/2=4.5). You have to round up to 5 for the index, so you start at number 6 in the list. You do this on either side until you get your desired value. (You would want to get 8 because the index of 8 = 69)"
      ]
    },
    {
      "cell_type": "markdown",
      "metadata": {
        "id": "wGVdi0ckUTi4"
      },
      "source": [
        "## 6. Make a diagram explaining how you found the list (not tree, include equation)\n",
        "![](https://user-images.githubusercontent.com/47646488/206983816-1a29f500-afec-4c3b-afee-8f9f5ce23f4e.png)"
      ]
    },
    {
      "cell_type": "markdown",
      "metadata": {
        "id": "t9c0frK0UTi5"
      },
      "source": [
        "## 7. Put this list of strings in a order that can be used for binary search \n",
        "- [\"store\",\"Market\",\"Walmart\",Target\",\"Ralphs\"]\n",
        "- [\"Market\",\"Ralphs\",\"store\",\"Target\",\"Walmart\"]\n",
        "- Alphabetical order would be the best way to put it"
      ]
    },
    {
      "cell_type": "markdown",
      "metadata": {
        "id": "Uy6y8jblUTi5"
      },
      "source": [
        "## 8. Explain why Binary Search is more efficient than Sequential Search\n",
        "- Binary search is more efficient than sequential search because sequential search goes one by one in the list comparing each value to the value you are looking for. Binary search on the other hand basically divides the amount of answers it could be after each step, making it a lot faster to find a certian number in a large list."
      ]
    },
    {
      "cell_type": "markdown",
      "metadata": {
        "id": "ll8ViifJUTi6"
      },
      "source": [
        "## 9. [64,36,16,11,9] Explain which number you are finding, how many check it would take, and make a binary search tree\n",
        "- If I am searching for 36 it would take 2 checks. You would start at 16 because it is the middle index. Then you would do 1 + 3 = 4 and then divide by 2 to get 2 for the index. Index 2 is the number 36, so we would stop there.\n",
        "![](https://user-images.githubusercontent.com/47646488/206983863-07265672-b51e-40af-a369-ae536fd4f6c9.png)\n"
      ]
    },
    {
      "cell_type": "markdown",
      "metadata": {
        "id": "5wFdfyoGUTi6"
      },
      "source": [
        "# Blog/Final Thoughts\n",
        "- I learned about conditional statements vs boolean\n",
        "- Furthed my knowledge on algorithms\n",
        "- Experienced more with different types of algorithms\n",
        "- I learned about binary search and sequential search\n",
        "- I learned that binary search is more effiecient than sequential search"
      ]
    }
  ],
  "metadata": {
    "kernelspec": {
      "display_name": "Python 3.9.12 ('base')",
      "language": "python",
      "name": "python3"
    },
    "language_info": {
      "codemirror_mode": {
        "name": "ipython",
        "version": 3
      },
      "file_extension": ".py",
      "mimetype": "text/x-python",
      "name": "python",
      "nbconvert_exporter": "python",
      "pygments_lexer": "ipython3",
      "version": "3.9.12"
    },
    "orig_nbformat": 4,
    "vscode": {
      "interpreter": {
        "hash": "40d3a090f54c6569ab1632332b64b2c03c39dcf918b08424e98f38b5ae0af88f"
      }
    },
    "colab": {
      "provenance": []
    }
  },
  "nbformat": 4,
  "nbformat_minor": 0
}